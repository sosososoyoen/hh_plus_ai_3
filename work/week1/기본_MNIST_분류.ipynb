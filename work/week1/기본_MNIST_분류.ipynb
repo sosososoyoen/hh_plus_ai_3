{
  "nbformat": 4,
  "nbformat_minor": 0,
  "metadata": {
    "colab": {
      "provenance": [],
      "gpuType": "T4",
      "include_colab_link": true
    },
    "kernelspec": {
      "name": "python3",
      "display_name": "Python 3"
    },
    "language_info": {
      "name": "python"
    },
    "accelerator": "GPU"
  },
  "cells": [
    {
      "cell_type": "markdown",
      "metadata": {
        "id": "view-in-github",
        "colab_type": "text"
      },
      "source": [
        "<a href=\"https://colab.research.google.com/github/sosososoyoen/hh_plus_ai_3/blob/main/work%20/%EA%B8%B0%EB%B3%B8_MNIST_%EB%B6%84%EB%A5%98.ipynb\" target=\"_parent\"><img src=\"https://colab.research.google.com/assets/colab-badge.svg\" alt=\"Open In Colab\"/></a>"
      ]
    },
    {
      "cell_type": "markdown",
      "source": [
        "# MNIST 실습\n",
        "\n",
        "이번에는 28x28 흑백 손글씨 이미지를 보고 0~9 사이의 숫자 중 어떤 숫자를 쓴 것인지 예측하는 문제를 실습합니다.\n",
        "이번 실습에서는 GPU를 활용할 것이기 때문에, 이전 챕터에서 Colab에서 GPU를 설정하는 방법을 따라해주시길 바랍니다.\n",
        "\n",
        "GPU를 설정했으면 library들을 import합니다."
      ],
      "metadata": {
        "id": "OPJenlrhihrh"
      }
    },
    {
      "cell_type": "code",
      "execution_count": 1,
      "metadata": {
        "id": "6lXVfXoDtoQh"
      },
      "outputs": [],
      "source": [
        "import torch\n",
        "import torchvision\n",
        "import torchvision.transforms as transforms"
      ]
    },
    {
      "cell_type": "markdown",
      "source": [
        "다음은 dataset을 준비합니다. 손글씨 dataset은 MNIST라는 유명한 dataset이 있습니다. 이 dataset은 `torchvision`에서 제공하고 있으며, 다음과 같이 다운로드 받을 수 있습니다."
      ],
      "metadata": {
        "id": "pF-1zQvmiult"
      }
    },
    {
      "cell_type": "code",
      "source": [
        "# 이미지 데이터를 Tensor 형태로 변환! => 1 x 28 x 28\n",
        "transform = transforms.ToTensor()\n",
        "\n",
        "trainset = torchvision.datasets.MNIST(\n",
        "    root='./data',\n",
        "    train=True,\n",
        "    download=True,\n",
        "    transform=transform\n",
        ")"
      ],
      "metadata": {
        "id": "KAYlqPaRt6ti"
      },
      "execution_count": 22,
      "outputs": []
    },
    {
      "cell_type": "markdown",
      "source": [
        "MNIST는 손글씨 사진과 어떤 숫자를 의미하는지에 대한 label의 pair들로 구성되어있습니다.\n",
        "이 때, 우리는 PyTorch model을 사용할 것이기 때문에 손글씨 사진들을 모두 tensor로 변환해야합니다.\n",
        "이러한 부가적인 변환들은 `torchvision.transforms`에서 제공하고 있으며, `torchvision.datasets.MNIST`에서 `transform` 인자로 받을 수 있습니다.\n",
        "우리는 단순히 사진을 tensor로 바꾸고 싶기 때문에 `transforms.ToTensor()` transformation을 넘겨줍니다.\n",
        "\n",
        "다음은 전체 data의 개수와 첫 번째 data를 출력한 결과입니다."
      ],
      "metadata": {
        "id": "p-GqH7_ZjVMs"
      }
    },
    {
      "cell_type": "code",
      "source": [
        "from matplotlib import pyplot as plt\n",
        "\n",
        "\n",
        "print(len(trainset))\n",
        "print(trainset[0][0].shape, trainset[0][1])\n",
        "plt.imshow(trainset[0][0][0], cmap='gray')"
      ],
      "metadata": {
        "colab": {
          "base_uri": "https://localhost:8080/",
          "height": 485
        },
        "id": "Zsp3sHmojyhT",
        "outputId": "29ad8ef6-daf5-488b-ac2b-389cb31bccc8"
      },
      "execution_count": 42,
      "outputs": [
        {
          "output_type": "stream",
          "name": "stdout",
          "text": [
            "60000\n",
            "torch.Size([1, 28, 28]) 5\n"
          ]
        },
        {
          "output_type": "execute_result",
          "data": {
            "text/plain": [
              "<matplotlib.image.AxesImage at 0x7fbfa1fb7d50>"
            ]
          },
          "metadata": {},
          "execution_count": 42
        },
        {
          "output_type": "display_data",
          "data": {
            "text/plain": [
              "<Figure size 640x480 with 1 Axes>"
            ],
            "image/png": "[encoded data removed]"
          },
          "metadata": {}
        }
      ]
    },
    {
      "cell_type": "markdown",
      "source": [
        "첫 번째 출력결과를 통해 우리는 6만장의 손글씨 data가 있는 것을 알 수 있습니다.\n",
        "그리고 두 번째 출력결과를 통해 첫 번째 data의 shape은 (1, 28, 28)이고 5라는 숫자를 쓴 사진이라는 것을 알 수 있습니다.\n",
        "마지막으로 `plt.imshow`를 통해 visualize 했을 때 5라는 숫자가 나오는 것을 알 수 있습니다.\n",
        "\n",
        "다음은 SGD를 위해 dataset을 여러 개의 batch로 나누는 과정을 PyTorch로 구현한 모습입니다."
      ],
      "metadata": {
        "id": "udm8wDBsi301"
      }
    },
    {
      "cell_type": "code",
      "source": [
        "batch_size = 64\n",
        "\n",
        "trainloader = torch.utils.data.DataLoader(\n",
        "    trainset,\n",
        "    batch_size=batch_size,\n",
        "    shuffle=True\n",
        ")\n",
        "\n"
      ],
      "metadata": {
        "id": "UxKu3kA2i5WH"
      },
      "execution_count": 24,
      "outputs": []
    },
    {
      "cell_type": "code",
      "source": [
        "# 테스트 데이터 로드\n",
        "testset = torchvision.datasets.MNIST(\n",
        "    root = './data',\n",
        "    train=False,\n",
        "    download=True,\n",
        "    transform=transform\n",
        ")\n",
        "\n",
        "#테스트 로더\n",
        "testloader = torch.utils.data.DataLoader(\n",
        "    testset,\n",
        "    batch_size=batch_size,\n",
        "    shuffle=False\n",
        ")"
      ],
      "metadata": {
        "id": "D03Evw9q96WZ"
      },
      "execution_count": 25,
      "outputs": []
    },
    {
      "cell_type": "markdown",
      "source": [
        "PyTorch에서는 `DataLoader`가 dataset을 인자로 받아 batch로 나눠줍니다.\n",
        "부가적으로 `batch_size`라는 인자를 통해 batch size를 받고 있으며, `shuffle`이라는 인자를 통해 data들을 섞을지 결정해줍니다.\n",
        "우리는 SGD가 완전 랜덤으로 batch를 구성해야 잘 동작하는 것을 알고 있기 때문에 `shuffle`에 `True`를 넘겨주고 있습니다.\n",
        "\n",
        "다음은 첫 번째 batch를 출력한 모습입니다."
      ],
      "metadata": {
        "id": "z4Qyrm4WlzWt"
      }
    },
    {
      "cell_type": "code",
      "source": [
        "dataiter = iter(trainloader)\n",
        "images, labels = next(dataiter)\n",
        "print(images.shape, labels.shape)"
      ],
      "metadata": {
        "colab": {
          "base_uri": "https://localhost:8080/"
        },
        "id": "_Hd7XxyAvVNz",
        "outputId": "a9ad8c86-a6b2-45dc-8576-42366d88a533"
      },
      "execution_count": 5,
      "outputs": [
        {
          "output_type": "stream",
          "name": "stdout",
          "text": [
            "torch.Size([64, 1, 28, 28]) torch.Size([64])\n"
          ]
        }
      ]
    },
    {
      "cell_type": "code",
      "source": [
        "dataiter = iter(testloader)\n",
        "images, labels = next(dataiter)\n",
        "print(images.shape, labels.shape)"
      ],
      "metadata": {
        "colab": {
          "base_uri": "https://localhost:8080/"
        },
        "id": "Hj_KP9WrrKm5",
        "outputId": "69f505c6-73fe-41d0-c6bb-3a2543fd4ec4"
      },
      "execution_count": 6,
      "outputs": [
        {
          "output_type": "stream",
          "name": "stdout",
          "text": [
            "torch.Size([64, 1, 28, 28]) torch.Size([64])\n"
          ]
        }
      ]
    },
    {
      "cell_type": "markdown",
      "source": [
        "`images`는 첫 번째 batch의 image들이고 `labels`는 첫 번째 batch의 label들입니다.\n",
        "위에서 batch size를 64로 설정했기 때문에 총 64개의 image와 label들이 있어야 합니다.\n",
        "실제 shape 출력 결과를 보면 그렇다는 것을 알 수 있습니다.\n",
        "\n",
        "다음은 (n, 1, 28, 28) shape의 image를 입력받아 0~9 사이의 정수 하나를 출력하는 3-layer MLP를 구현합니다."
      ],
      "metadata": {
        "id": "h0ZY5mDimRUK"
      }
    },
    {
      "cell_type": "code",
      "source": [
        "from torch import nn\n",
        "\n",
        "\n",
        "class Model(nn.Module):\n",
        "  def __init__(self, input_dim, n_dim):\n",
        "    super().__init__()\n",
        "\n",
        "#퍼셉트론 레이어 3개 만들기\n",
        "    self.layer1 = nn.Linear(input_dim, n_dim) # 입력 -> 은닉층1\n",
        "    self.layer2 = nn.Linear(n_dim, n_dim) #은닉층1 -> 은닉층2\n",
        "    self.layer3 = nn.Linear(n_dim, 10) #은닉층2 -> 출력층  10개로 한 이유는 크로스엔트로피 방식의 답변갯수를 고려함 0~9까지\n",
        "\n",
        "    self.act = nn.ReLU()\n",
        "\n",
        "#순전파\n",
        "  def forward(self, x):\n",
        "    x = torch.flatten(x, start_dim=1) #flatten\n",
        "    x = self.act(self.layer1(x))\n",
        "    x = self.act(self.layer2(x))\n",
        "    x = self.act(self.layer3(x))\n",
        "\n",
        "    return x\n",
        "\n",
        "\n",
        "model = Model(28 * 28 * 1, 1024)"
      ],
      "metadata": {
        "id": "OLOA-ZGTuVVG"
      },
      "execution_count": 26,
      "outputs": []
    },
    {
      "cell_type": "markdown",
      "source": [
        "이전의 2-layer MLP와 유사한 형태임을 알 수 있습니다.\n",
        "여기서 특이사항은 `forward`의 첫 번째 줄에 `torch.flatten`을 사용한다는 것입니다.\n",
        "`Linear`는 이전에도 봤다시피 (n, d) 형태의 shape을 입력받습니다.\n",
        "이미지는 (n, 1, 28, 28)이기 때문에 (n, 1 * 28 * 28)로 shape을 변환해야 선형 함수에 입력으로 주어줄 수 있게 됩니다.\n",
        "이 역할을 수행하는 것이 바로 `torch.flatten`입니다.\n",
        "우리는 첫 번째 shape인 n을 보존할 것이기 때문에 flatten할 차원은 `start_dim=1`로 넘겨주게 됩니다.\n",
        "\n",
        "다음은 gradient descent를 수행해줄 optimizer를 구현하는 모습입니다."
      ],
      "metadata": {
        "id": "tag1rNcwmnAr"
      }
    },
    {
      "cell_type": "code",
      "source": [
        "from torch.optim import SGD\n",
        "\n",
        "lr = 0.001 #학습률\n",
        "device = torch.device(\"cuda\" if torch.cuda.is_available() else \"cpu\")\n",
        "model = model.to(device)\n",
        "print(\"전송 후 모델 장치:\", next(model.parameters()).device)\n",
        "\n",
        "optimizer = SGD(model.parameters(), lr=lr) #SGD : 경사하강법"
      ],
      "metadata": {
        "id": "ypS0TcOlvBhZ",
        "colab": {
          "base_uri": "https://localhost:8080/"
        },
        "outputId": "68019008-a147-45eb-d914-b2c9e509badd"
      },
      "execution_count": 28,
      "outputs": [
        {
          "output_type": "stream",
          "name": "stdout",
          "text": [
            "전송 후 모델 장치: cuda:0\n"
          ]
        }
      ]
    },
    {
      "cell_type": "markdown",
      "source": [
        "이전 코드와 거의 똑같습니다. 다른 점은 `model.to('cuda')` 코드를 통해 우리가 구현한 model을 GPU로 옮긴 것입니다.\n",
        "MNIST 부터는 모델과 data가 커지면서 훨씬 많은 행렬 연산이 이루어지기 때문에 GPU를 활용하는 것이 빠릅니다.\n",
        "\n",
        "다음은 model을 MNIST에 학습하는 코드입니다."
      ],
      "metadata": {
        "id": "5PooeOKMnRfZ"
      }
    },
    {
      "cell_type": "code",
      "source": [
        "n_epochs = 100\n",
        "loss_func = nn.CrossEntropyLoss()\n",
        "for epoch in range(n_epochs):\n",
        "  total_loss = 0.\n",
        "  for data in trainloader:\n",
        "    model.zero_grad() #파라미터들의 기울기를 0을 초기화 - 역전파를 통해 기울기를 계산하기 전에!\n",
        "    # 데이터를 GPU로 보내기\n",
        "    inputs, labels = data\n",
        "    inputs, labels = inputs.to('cuda'), labels.to('cuda')\n",
        "\n",
        "    # 예측값 계산 (순전파)\n",
        "    preds = model(inputs)\n",
        "\n",
        "    loss = loss_func(preds, labels)\n",
        "    loss.backward()\n",
        "    optimizer.step()\n",
        "\n",
        "    total_loss += loss.item()\n",
        "\n",
        "  print(f\"Epoch {epoch:3d} | Loss: {total_loss}\")"
      ],
      "metadata": {
        "colab": {
          "base_uri": "https://localhost:8080/"
        },
        "id": "TryX1hewvNiB",
        "outputId": "a4a23198-3248-4ceb-8afa-91e2d17f527b"
      },
      "execution_count": 29,
      "outputs": [
        {
          "output_type": "stream",
          "name": "stdout",
          "text": [
            "Epoch   0 | Loss: 2146.1274003982544\n",
            "Epoch   1 | Loss: 2104.6450011730194\n",
            "Epoch   2 | Loss: 2039.6972920894623\n",
            "Epoch   3 | Loss: 1928.5719994306564\n",
            "Epoch   4 | Loss: 1751.870393872261\n",
            "Epoch   5 | Loss: 1522.9627977609634\n",
            "Epoch   6 | Loss: 1288.3437002897263\n",
            "Epoch   7 | Loss: 1100.1344728469849\n",
            "Epoch   8 | Loss: 969.0990009307861\n",
            "Epoch   9 | Loss: 878.1027585864067\n",
            "Epoch  10 | Loss: 812.3610764741898\n",
            "Epoch  11 | Loss: 761.7885064780712\n",
            "Epoch  12 | Loss: 722.0079776346684\n",
            "Epoch  13 | Loss: 689.32192710042\n",
            "Epoch  14 | Loss: 662.2590951323509\n",
            "Epoch  15 | Loss: 639.6210822463036\n",
            "Epoch  16 | Loss: 620.2733564674854\n",
            "Epoch  17 | Loss: 603.6956765651703\n",
            "Epoch  18 | Loss: 589.1313697397709\n",
            "Epoch  19 | Loss: 576.4529781937599\n",
            "Epoch  20 | Loss: 565.1315056085587\n",
            "Epoch  21 | Loss: 555.3182738721371\n",
            "Epoch  22 | Loss: 546.3156314194202\n",
            "Epoch  23 | Loss: 538.3833452016115\n",
            "Epoch  24 | Loss: 531.1106528043747\n",
            "Epoch  25 | Loss: 524.5065449923277\n",
            "Epoch  26 | Loss: 518.5455581992865\n",
            "Epoch  27 | Loss: 512.9652684926987\n",
            "Epoch  28 | Loss: 507.9860928207636\n",
            "Epoch  29 | Loss: 503.3550630658865\n",
            "Epoch  30 | Loss: 498.9102923721075\n",
            "Epoch  31 | Loss: 495.0285112261772\n",
            "Epoch  32 | Loss: 491.0731966495514\n",
            "Epoch  33 | Loss: 487.47350656986237\n",
            "Epoch  34 | Loss: 484.33032654225826\n",
            "Epoch  35 | Loss: 481.0677630752325\n",
            "Epoch  36 | Loss: 477.9865270704031\n",
            "Epoch  37 | Loss: 475.183664560318\n",
            "Epoch  38 | Loss: 472.3753499239683\n",
            "Epoch  39 | Loss: 469.8350065499544\n",
            "Epoch  40 | Loss: 467.31556238234043\n",
            "Epoch  41 | Loss: 464.6795845627785\n",
            "Epoch  42 | Loss: 462.4256083369255\n",
            "Epoch  43 | Loss: 460.1360304504633\n",
            "Epoch  44 | Loss: 458.0320553332567\n",
            "Epoch  45 | Loss: 455.74487675726414\n",
            "Epoch  46 | Loss: 453.8783912360668\n",
            "Epoch  47 | Loss: 451.73972241580486\n",
            "Epoch  48 | Loss: 449.88890317082405\n",
            "Epoch  49 | Loss: 448.23729033768177\n",
            "Epoch  50 | Loss: 446.2265640795231\n",
            "Epoch  51 | Loss: 444.4516635388136\n",
            "Epoch  52 | Loss: 442.602157458663\n",
            "Epoch  53 | Loss: 440.9109149724245\n",
            "Epoch  54 | Loss: 439.18700444698334\n",
            "Epoch  55 | Loss: 437.76783645153046\n",
            "Epoch  56 | Loss: 435.92207488417625\n",
            "Epoch  57 | Loss: 434.4465502947569\n",
            "Epoch  58 | Loss: 432.8647024035454\n",
            "Epoch  59 | Loss: 431.4265165627003\n",
            "Epoch  60 | Loss: 429.8790452182293\n",
            "Epoch  61 | Loss: 428.5505814552307\n",
            "Epoch  62 | Loss: 427.01506673544645\n",
            "Epoch  63 | Loss: 425.7062460780144\n",
            "Epoch  64 | Loss: 424.10746689140797\n",
            "Epoch  65 | Loss: 422.70875193178654\n",
            "Epoch  66 | Loss: 421.4338858127594\n",
            "Epoch  67 | Loss: 420.05825212597847\n",
            "Epoch  68 | Loss: 418.7261647731066\n",
            "Epoch  69 | Loss: 417.4966753423214\n",
            "Epoch  70 | Loss: 416.1624508947134\n",
            "Epoch  71 | Loss: 414.77754555642605\n",
            "Epoch  72 | Loss: 413.5219723135233\n",
            "Epoch  73 | Loss: 412.1984829008579\n",
            "Epoch  74 | Loss: 410.89296367019415\n",
            "Epoch  75 | Loss: 409.74776040762663\n",
            "Epoch  76 | Loss: 408.6364853531122\n",
            "Epoch  77 | Loss: 407.367314055562\n",
            "Epoch  78 | Loss: 406.11551079154015\n",
            "Epoch  79 | Loss: 405.0492171049118\n",
            "Epoch  80 | Loss: 403.8463264852762\n",
            "Epoch  81 | Loss: 402.6237406283617\n",
            "Epoch  82 | Loss: 401.7294070497155\n",
            "Epoch  83 | Loss: 400.29345923662186\n",
            "Epoch  84 | Loss: 399.3108507320285\n",
            "Epoch  85 | Loss: 398.0040796175599\n",
            "Epoch  86 | Loss: 396.92826027423143\n",
            "Epoch  87 | Loss: 395.81350749731064\n",
            "Epoch  88 | Loss: 395.0238230973482\n",
            "Epoch  89 | Loss: 393.8143930584192\n",
            "Epoch  90 | Loss: 392.6150366216898\n",
            "Epoch  91 | Loss: 391.53929863125086\n",
            "Epoch  92 | Loss: 390.611205086112\n",
            "Epoch  93 | Loss: 389.56523863971233\n",
            "Epoch  94 | Loss: 388.57828548550606\n",
            "Epoch  95 | Loss: 387.48808044195175\n",
            "Epoch  96 | Loss: 386.3395319953561\n",
            "Epoch  97 | Loss: 385.57229129225016\n",
            "Epoch  98 | Loss: 384.5245953351259\n",
            "Epoch  99 | Loss: 383.50992326438427\n"
          ]
        }
      ]
    },
    {
      "cell_type": "markdown",
      "source": [
        "평가!"
      ],
      "metadata": {
        "id": "AI5_OQkNy2PK"
      }
    },
    {
      "cell_type": "code",
      "source": [
        "def accuracy(model, dataloader):\n",
        "  cnt = 0 #카운트. 전체 데이터 개수\n",
        "  acc = 0 #정확도. 정확히 예측한 개수\n",
        "\n",
        "  for data in dataloader:\n",
        "    inputs, labels = data\n",
        "    inputs, labels = inputs.to('cuda'), labels.to('cuda')\n",
        "\n",
        "    preds = model(inputs)\n",
        "\n",
        "    #예측값 중에서 가장 높은 값의 인덱스 찾기\n",
        "    preds = torch.argmax(preds, dim=-1)\n",
        "\n",
        "    cnt += labels.shape[0]\n",
        "    acc += (labels == preds).sum().item()\n",
        "\n",
        "  return acc / cnt"
      ],
      "metadata": {
        "id": "JMBIo2IHzAIr"
      },
      "execution_count": 30,
      "outputs": []
    },
    {
      "cell_type": "code",
      "source": [
        "batch_size = 256\n",
        "\n",
        "trainloader = torch.utils.data.DataLoader(\n",
        "    trainset,\n",
        "    batch_size=batch_size,\n",
        "    shuffle=True\n",
        ")\n",
        "\n",
        "#테스트 로더도 만들었음!!\n",
        "testloader = torch.utils.data.DataLoader(\n",
        "    testset,\n",
        "    batch_size=batch_size,\n",
        "    shuffle=False\n",
        ")"
      ],
      "metadata": {
        "id": "BbOKAONC1I7J"
      },
      "execution_count": 31,
      "outputs": []
    },
    {
      "cell_type": "code",
      "source": [
        "n_epochs = 100\n",
        "loss_func_test = nn.CrossEntropyLoss()\n",
        "\n",
        "train_accs = []  # 변경된 점 (1)\n",
        "test_accs = []   # 변경된 점 (2)\n",
        "\n",
        "for epoch in range(n_epochs):\n",
        "  total_loss = 0.\n",
        "  for data in trainloader:\n",
        "    model.zero_grad() #파라미터들의 기울기를 0을 초기화 - 역전파를 통해 기울기를 계산하기 전에!\n",
        "    # 데이터를 GPU로 보내기\n",
        "    inputs, labels = data\n",
        "    inputs, labels = inputs.to('cuda'), labels.to('cuda')\n",
        "\n",
        "    # 예측값 계산 (순전파)\n",
        "    preds = model(inputs)\n",
        "\n",
        "    loss = loss_func_test(preds, labels)\n",
        "    loss.backward()\n",
        "    optimizer.step()\n",
        "\n",
        "    total_loss += loss.item()\n",
        "\n",
        "  train_accs.append(accuracy(model, trainloader))\n",
        "  test_accs.append(accuracy(model, testloader))\n",
        "\n",
        "  print(f\"Epoch {epoch + 1:3d} | Loss: {total_loss}\")"
      ],
      "metadata": {
        "colab": {
          "base_uri": "https://localhost:8080/"
        },
        "id": "HrfUcBH2yt_8",
        "outputId": "ef99694f-de66-4485-df99-f844891f73c0"
      },
      "execution_count": 32,
      "outputs": [
        {
          "output_type": "stream",
          "name": "stdout",
          "text": [
            "Epoch   1 | Loss: 95.82012137770653\n",
            "Epoch   2 | Loss: 95.82146582007408\n",
            "Epoch   3 | Loss: 95.69470179080963\n",
            "Epoch   4 | Loss: 95.62067434191704\n",
            "Epoch   5 | Loss: 95.56021450459957\n",
            "Epoch   6 | Loss: 95.52716201543808\n",
            "Epoch   7 | Loss: 95.48325166106224\n",
            "Epoch   8 | Loss: 95.40560802817345\n",
            "Epoch   9 | Loss: 95.3251540362835\n",
            "Epoch  10 | Loss: 95.29295240342617\n",
            "Epoch  11 | Loss: 95.23213183879852\n",
            "Epoch  12 | Loss: 95.07869160175323\n",
            "Epoch  13 | Loss: 94.95397262275219\n",
            "Epoch  14 | Loss: 95.05715483427048\n",
            "Epoch  15 | Loss: 95.02970826625824\n",
            "Epoch  16 | Loss: 94.85983929038048\n",
            "Epoch  17 | Loss: 94.78759896755219\n",
            "Epoch  18 | Loss: 94.79095089435577\n",
            "Epoch  19 | Loss: 94.73091593384743\n",
            "Epoch  20 | Loss: 94.65646216273308\n",
            "Epoch  21 | Loss: 94.59986717998981\n",
            "Epoch  22 | Loss: 94.538549721241\n",
            "Epoch  23 | Loss: 94.48517656326294\n",
            "Epoch  24 | Loss: 94.43545341491699\n",
            "Epoch  25 | Loss: 94.40117353200912\n",
            "Epoch  26 | Loss: 94.26837664842606\n",
            "Epoch  27 | Loss: 94.24226804077625\n",
            "Epoch  28 | Loss: 94.32384440302849\n",
            "Epoch  29 | Loss: 94.03554481267929\n",
            "Epoch  30 | Loss: 94.02501881122589\n",
            "Epoch  31 | Loss: 93.99944287538528\n",
            "Epoch  32 | Loss: 93.87833616137505\n",
            "Epoch  33 | Loss: 93.8781912624836\n",
            "Epoch  34 | Loss: 93.85303881764412\n",
            "Epoch  35 | Loss: 93.78502163290977\n",
            "Epoch  36 | Loss: 93.83664691448212\n",
            "Epoch  37 | Loss: 93.62789365649223\n",
            "Epoch  38 | Loss: 93.52736777067184\n",
            "Epoch  39 | Loss: 93.46575686335564\n",
            "Epoch  40 | Loss: 93.45477810502052\n",
            "Epoch  41 | Loss: 93.40147173404694\n",
            "Epoch  42 | Loss: 93.30020171403885\n",
            "Epoch  43 | Loss: 93.37530513107777\n",
            "Epoch  44 | Loss: 93.17678256332874\n",
            "Epoch  45 | Loss: 93.13472482562065\n",
            "Epoch  46 | Loss: 93.13983675837517\n",
            "Epoch  47 | Loss: 93.16429187357426\n",
            "Epoch  48 | Loss: 92.94854635000229\n",
            "Epoch  49 | Loss: 92.9363212287426\n",
            "Epoch  50 | Loss: 92.96996513009071\n",
            "Epoch  51 | Loss: 92.79390954971313\n",
            "Epoch  52 | Loss: 92.79211601614952\n",
            "Epoch  53 | Loss: 92.60792483389378\n",
            "Epoch  54 | Loss: 92.72502192854881\n",
            "Epoch  55 | Loss: 92.60035452246666\n",
            "Epoch  56 | Loss: 92.50995250046253\n",
            "Epoch  57 | Loss: 92.48878081142902\n",
            "Epoch  58 | Loss: 92.47488564252853\n",
            "Epoch  59 | Loss: 92.35221682488918\n",
            "Epoch  60 | Loss: 92.31354662775993\n",
            "Epoch  61 | Loss: 92.2530522942543\n",
            "Epoch  62 | Loss: 92.22465991973877\n",
            "Epoch  63 | Loss: 92.0732889175415\n",
            "Epoch  64 | Loss: 92.14931255578995\n",
            "Epoch  65 | Loss: 92.07654267549515\n",
            "Epoch  66 | Loss: 91.98409241437912\n",
            "Epoch  67 | Loss: 91.85696557164192\n",
            "Epoch  68 | Loss: 91.84585832059383\n",
            "Epoch  69 | Loss: 91.7703185081482\n",
            "Epoch  70 | Loss: 91.67773117125034\n",
            "Epoch  71 | Loss: 91.63932855427265\n",
            "Epoch  72 | Loss: 91.77620202302933\n",
            "Epoch  73 | Loss: 91.6548588424921\n",
            "Epoch  74 | Loss: 91.50680842995644\n",
            "Epoch  75 | Loss: 91.60182330012321\n",
            "Epoch  76 | Loss: 91.46722972393036\n",
            "Epoch  77 | Loss: 91.39812633395195\n",
            "Epoch  78 | Loss: 91.23807649314404\n",
            "Epoch  79 | Loss: 91.38163025677204\n",
            "Epoch  80 | Loss: 91.1530971378088\n",
            "Epoch  81 | Loss: 91.0713942348957\n",
            "Epoch  82 | Loss: 90.98646101355553\n",
            "Epoch  83 | Loss: 90.98532089591026\n",
            "Epoch  84 | Loss: 90.96106685698032\n",
            "Epoch  85 | Loss: 90.82420589029789\n",
            "Epoch  86 | Loss: 90.88712295889854\n",
            "Epoch  87 | Loss: 90.82599213719368\n",
            "Epoch  88 | Loss: 90.78908026218414\n",
            "Epoch  89 | Loss: 90.71824020147324\n",
            "Epoch  90 | Loss: 90.70819236338139\n",
            "Epoch  91 | Loss: 90.59196954965591\n",
            "Epoch  92 | Loss: 90.62076076865196\n",
            "Epoch  93 | Loss: 90.44447582960129\n",
            "Epoch  94 | Loss: 90.41633957624435\n",
            "Epoch  95 | Loss: 90.41762056946754\n",
            "Epoch  96 | Loss: 90.33953648805618\n",
            "Epoch  97 | Loss: 90.2999507188797\n",
            "Epoch  98 | Loss: 90.258077532053\n",
            "Epoch  99 | Loss: 90.18907710909843\n",
            "Epoch 100 | Loss: 90.22839546203613\n"
          ]
        }
      ]
    },
    {
      "cell_type": "markdown",
      "source": [
        "출력 결과를 보면 잘 수렴하는 것을 볼 수 있습니다.\n",
        "이전 구현과 다른 점은 다음 두 가지입니다.\n",
        "- `for data in trainloader`를 통해 batch들을 iterate하면서 model을 학습합니다.\n",
        "- `inputs, labels = inputs.to('cuda'), labels.to('cuda')`를 통해 model의 입력으로 들어가는 tensor들을 GPU로 보냅니다.\n",
        "\n",
        "마지막으로 첫 번째 data에 대한 예측 결과를 살펴봅시다."
      ],
      "metadata": {
        "id": "YRDcptrqniX7"
      }
    },
    {
      "cell_type": "markdown",
      "source": [
        "정확도를 그래프로 확인"
      ],
      "metadata": {
        "id": "v4iIpkWe3fFr"
      }
    },
    {
      "cell_type": "code",
      "source": [
        "import numpy as np\n",
        "import matplotlib.pyplot as plt"
      ],
      "metadata": {
        "id": "Z9yw8aSm3xmz"
      },
      "execution_count": 33,
      "outputs": []
    },
    {
      "cell_type": "code",
      "source": [
        "def plot_acc(train_accs, test_accs, label1='train', label2='test'):\n",
        "  x = np.arange(len(train_accs))\n",
        "\n",
        "  plt.plot(x, train_accs, label=label1)\n",
        "  plt.plot(x, test_accs, label=label2)\n",
        "  plt.legend()\n",
        "  plt.show()"
      ],
      "metadata": {
        "id": "04tN8wFA3dVk"
      },
      "execution_count": 34,
      "outputs": []
    },
    {
      "cell_type": "code",
      "source": [
        "plot_acc(train_accs, test_accs)"
      ],
      "metadata": {
        "colab": {
          "base_uri": "https://localhost:8080/",
          "height": 430
        },
        "id": "X10DRO616FtQ",
        "outputId": "052cbb87-5ead-4b5c-c167-353c61ec48fa"
      },
      "execution_count": 35,
      "outputs": [
        {
          "output_type": "display_data",
          "data": {
            "text/plain": [
              "<Figure size 640x480 with 1 Axes>"
            ],
            "image/png": "[encoded data removed]"
          },
          "metadata": {}
        }
      ]
    },
    {
      "cell_type": "code",
      "source": [
        "idx = 2\n",
        "\n",
        "x = trainset[idx][0][None]  # (1, 1, 28, 28)\n",
        "x = x.to('cuda')\n",
        "output = model(x)\n",
        "print(output)\n",
        "predict_class = torch.argmax(output)\n",
        "print(\"예측값\",predict_class.item())\n",
        "print(\"정답\",trainset[idx][1])\n",
        "image, label = trainset[idx]\n",
        "plt.imshow(image[0], cmap='gray')"
      ],
      "metadata": {
        "id": "Zct0ssSKwjt1",
        "colab": {
          "base_uri": "https://localhost:8080/",
          "height": 522
        },
        "outputId": "a0aab2d9-db94-4813-d657-ee8b5d9f2b42"
      },
      "execution_count": 60,
      "outputs": [
        {
          "output_type": "stream",
          "name": "stdout",
          "text": [
            "tensor([[0.0000, 0.0000, 1.4221, 1.3079, 5.1363, 0.0000, 0.0000, 0.8269, 0.0000,\n",
            "         1.8772]], device='cuda:0', grad_fn=<ReluBackward0>)\n",
            "예측값 4\n",
            "정답 4\n"
          ]
        },
        {
          "output_type": "execute_result",
          "data": {
            "text/plain": [
              "<matplotlib.image.AxesImage at 0x7fbfafa5b4d0>"
            ]
          },
          "metadata": {},
          "execution_count": 60
        },
        {
          "output_type": "display_data",
          "data": {
            "text/plain": [
              "<Figure size 640x480 with 1 Axes>"
            ],
            "image/png": "[encoded data removed]"
          },
          "metadata": {}
        }
      ]
    },
    {
      "cell_type": "markdown",
      "source": [
        "여기서 idx를 조정하여 다른 data에 대한 출력 결과도 볼 수 있습니다.\n",
        "예측 결과를 보시면 아직 성능이 그렇게 좋지 않은 것을 알 수 있습니다."
      ],
      "metadata": {
        "id": "qzgSOrMsoZ2z"
      }
    }
  ]
}
