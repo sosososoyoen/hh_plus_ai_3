{
  "cells": [
    {
      "cell_type": "markdown",
      "source": [
        "## MultiNLI (Multi-Genre Natural Language Inference)\n",
        "MNLI는 두 문장이 주어졌을 때 논리적으로 연결이 되어 있는지, 서로 모순되는지, 아니면 아예 무관한지 분류하는 문제\n"
      ],
      "metadata": {
        "id": "vt0Ue_IuuPqc"
      }
    },
    {
      "cell_type": "code",
      "execution_count": 1,
      "metadata": {
        "colab": {
          "base_uri": "https://localhost:8080/"
        },
        "collapsed": true,
        "id": "UeHRwq3aR-bc",
        "outputId": "04771677-0a52-4f29-cd4d-c0645541fa56"
      },
      "outputs": [
        {
          "output_type": "stream",
          "name": "stdout",
          "text": [
            "Requirement already satisfied: tqdm in /usr/local/lib/python3.11/dist-packages (4.67.1)\n",
            "Collecting boto3\n",
            "  Downloading boto3-1.37.31-py3-none-any.whl.metadata (6.7 kB)\n",
            "Requirement already satisfied: requests in /usr/local/lib/python3.11/dist-packages (2.32.3)\n",
            "Requirement already satisfied: regex in /usr/local/lib/python3.11/dist-packages (2024.11.6)\n",
            "Requirement already satisfied: sentencepiece in /usr/local/lib/python3.11/dist-packages (0.2.0)\n",
            "Collecting sacremoses\n",
            "  Downloading sacremoses-0.1.1-py3-none-any.whl.metadata (8.3 kB)\n",
            "Collecting datasets\n",
            "  Downloading datasets-3.5.0-py3-none-any.whl.metadata (19 kB)\n",
            "Requirement already satisfied: pandas in /usr/local/lib/python3.11/dist-packages (2.2.2)\n",
            "Collecting botocore<1.38.0,>=1.37.31 (from boto3)\n",
            "  Downloading botocore-1.37.31-py3-none-any.whl.metadata (5.7 kB)\n",
            "Collecting jmespath<2.0.0,>=0.7.1 (from boto3)\n",
            "  Downloading jmespath-1.0.1-py3-none-any.whl.metadata (7.6 kB)\n",
            "Collecting s3transfer<0.12.0,>=0.11.0 (from boto3)\n",
            "  Downloading s3transfer-0.11.4-py3-none-any.whl.metadata (1.7 kB)\n",
            "Requirement already satisfied: charset-normalizer<4,>=2 in /usr/local/lib/python3.11/dist-packages (from requests) (3.4.1)\n",
            "Requirement already satisfied: idna<4,>=2.5 in /usr/local/lib/python3.11/dist-packages (from requests) (3.10)\n",
            "Requirement already satisfied: urllib3<3,>=1.21.1 in /usr/local/lib/python3.11/dist-packages (from requests) (2.3.0)\n",
            "Requirement already satisfied: certifi>=2017.4.17 in /usr/local/lib/python3.11/dist-packages (from requests) (2025.1.31)\n",
            "Requirement already satisfied: click in /usr/local/lib/python3.11/dist-packages (from sacremoses) (8.1.8)\n",
            "Requirement already satisfied: joblib in /usr/local/lib/python3.11/dist-packages (from sacremoses) (1.4.2)\n",
            "Requirement already satisfied: filelock in /usr/local/lib/python3.11/dist-packages (from datasets) (3.18.0)\n",
            "Requirement already satisfied: numpy>=1.17 in /usr/local/lib/python3.11/dist-packages (from datasets) (2.0.2)\n",
            "Requirement already satisfied: pyarrow>=15.0.0 in /usr/local/lib/python3.11/dist-packages (from datasets) (18.1.0)\n",
            "Collecting dill<0.3.9,>=0.3.0 (from datasets)\n",
            "  Downloading dill-0.3.8-py3-none-any.whl.metadata (10 kB)\n",
            "Collecting xxhash (from datasets)\n",
            "  Downloading xxhash-3.5.0-cp311-cp311-manylinux_2_17_x86_64.manylinux2014_x86_64.whl.metadata (12 kB)\n",
            "Collecting multiprocess<0.70.17 (from datasets)\n",
            "  Downloading multiprocess-0.70.16-py311-none-any.whl.metadata (7.2 kB)\n",
            "Collecting fsspec<=2024.12.0,>=2023.1.0 (from fsspec[http]<=2024.12.0,>=2023.1.0->datasets)\n",
            "  Downloading fsspec-2024.12.0-py3-none-any.whl.metadata (11 kB)\n",
            "Requirement already satisfied: aiohttp in /usr/local/lib/python3.11/dist-packages (from datasets) (3.11.15)\n",
            "Requirement already satisfied: huggingface-hub>=0.24.0 in /usr/local/lib/python3.11/dist-packages (from datasets) (0.30.1)\n",
            "Requirement already satisfied: packaging in /usr/local/lib/python3.11/dist-packages (from datasets) (24.2)\n",
            "Requirement already satisfied: pyyaml>=5.1 in /usr/local/lib/python3.11/dist-packages (from datasets) (6.0.2)\n",
            "Requirement already satisfied: python-dateutil>=2.8.2 in /usr/local/lib/python3.11/dist-packages (from pandas) (2.8.2)\n",
            "Requirement already satisfied: pytz>=2020.1 in /usr/local/lib/python3.11/dist-packages (from pandas) (2025.2)\n",
            "Requirement already satisfied: tzdata>=2022.7 in /usr/local/lib/python3.11/dist-packages (from pandas) (2025.2)\n",
            "Requirement already satisfied: aiohappyeyeballs>=2.3.0 in /usr/local/lib/python3.11/dist-packages (from aiohttp->datasets) (2.6.1)\n",
            "Requirement already satisfied: aiosignal>=1.1.2 in /usr/local/lib/python3.11/dist-packages (from aiohttp->datasets) (1.3.2)\n",
            "Requirement already satisfied: attrs>=17.3.0 in /usr/local/lib/python3.11/dist-packages (from aiohttp->datasets) (25.3.0)\n",
            "Requirement already satisfied: frozenlist>=1.1.1 in /usr/local/lib/python3.11/dist-packages (from aiohttp->datasets) (1.5.0)\n",
            "Requirement already satisfied: multidict<7.0,>=4.5 in /usr/local/lib/python3.11/dist-packages (from aiohttp->datasets) (6.2.0)\n",
            "Requirement already satisfied: propcache>=0.2.0 in /usr/local/lib/python3.11/dist-packages (from aiohttp->datasets) (0.3.1)\n",
            "Requirement already satisfied: yarl<2.0,>=1.17.0 in /usr/local/lib/python3.11/dist-packages (from aiohttp->datasets) (1.18.3)\n",
            "Requirement already satisfied: typing-extensions>=3.7.4.3 in /usr/local/lib/python3.11/dist-packages (from huggingface-hub>=0.24.0->datasets) (4.13.1)\n",
            "Requirement already satisfied: six>=1.5 in /usr/local/lib/python3.11/dist-packages (from python-dateutil>=2.8.2->pandas) (1.17.0)\n",
            "Downloading boto3-1.37.31-py3-none-any.whl (139 kB)\n",
            "\u001b[2K   \u001b[90m━━━━━━━━━━━━━━━━━━━━━━━━━━━━━━━━━━━━━━━━\u001b[0m \u001b[32m139.6/139.6 kB\u001b[0m \u001b[31m5.8 MB/s\u001b[0m eta \u001b[36m0:00:00\u001b[0m\n",
            "\u001b[?25hDownloading sacremoses-0.1.1-py3-none-any.whl (897 kB)\n",
            "\u001b[2K   \u001b[90m━━━━━━━━━━━━━━━━━━━━━━━━━━━━━━━━━━━━━━━━\u001b[0m \u001b[32m897.5/897.5 kB\u001b[0m \u001b[31m23.5 MB/s\u001b[0m eta \u001b[36m0:00:00\u001b[0m\n",
            "\u001b[?25hDownloading datasets-3.5.0-py3-none-any.whl (491 kB)\n",
            "\u001b[2K   \u001b[90m━━━━━━━━━━━━━━━━━━━━━━━━━━━━━━━━━━━━━━━━\u001b[0m \u001b[32m491.2/491.2 kB\u001b[0m \u001b[31m37.7 MB/s\u001b[0m eta \u001b[36m0:00:00\u001b[0m\n",
            "\u001b[?25hDownloading botocore-1.37.31-py3-none-any.whl (13.5 MB)\n",
            "\u001b[2K   \u001b[90m━━━━━━━━━━━━━━━━━━━━━━━━━━━━━━━━━━━━━━━━\u001b[0m \u001b[32m13.5/13.5 MB\u001b[0m \u001b[31m77.5 MB/s\u001b[0m eta \u001b[36m0:00:00\u001b[0m\n",
            "\u001b[?25hDownloading dill-0.3.8-py3-none-any.whl (116 kB)\n",
            "\u001b[2K   \u001b[90m━━━━━━━━━━━━━━━━━━━━━━━━━━━━━━━━━━━━━━━━\u001b[0m \u001b[32m116.3/116.3 kB\u001b[0m \u001b[31m9.7 MB/s\u001b[0m eta \u001b[36m0:00:00\u001b[0m\n",
            "\u001b[?25hDownloading fsspec-2024.12.0-py3-none-any.whl (183 kB)\n",
            "\u001b[2K   \u001b[90m━━━━━━━━━━━━━━━━━━━━━━━━━━━━━━━━━━━━━━━━\u001b[0m \u001b[32m183.9/183.9 kB\u001b[0m \u001b[31m17.5 MB/s\u001b[0m eta \u001b[36m0:00:00\u001b[0m\n",
            "\u001b[?25hDownloading jmespath-1.0.1-py3-none-any.whl (20 kB)\n",
            "Downloading multiprocess-0.70.16-py311-none-any.whl (143 kB)\n",
            "\u001b[2K   \u001b[90m━━━━━━━━━━━━━━━━━━━━━━━━━━━━━━━━━━━━━━━━\u001b[0m \u001b[32m143.5/143.5 kB\u001b[0m \u001b[31m12.8 MB/s\u001b[0m eta \u001b[36m0:00:00\u001b[0m\n",
            "\u001b[?25hDownloading s3transfer-0.11.4-py3-none-any.whl (84 kB)\n",
            "\u001b[2K   \u001b[90m━━━━━━━━━━━━━━━━━━━━━━━━━━━━━━━━━━━━━━━━\u001b[0m \u001b[32m84.4/84.4 kB\u001b[0m \u001b[31m7.8 MB/s\u001b[0m eta \u001b[36m0:00:00\u001b[0m\n",
            "\u001b[?25hDownloading xxhash-3.5.0-cp311-cp311-manylinux_2_17_x86_64.manylinux2014_x86_64.whl (194 kB)\n",
            "\u001b[2K   \u001b[90m━━━━━━━━━━━━━━━━━━━━━━━━━━━━━━━━━━━━━━━━\u001b[0m \u001b[32m194.8/194.8 kB\u001b[0m \u001b[31m17.5 MB/s\u001b[0m eta \u001b[36m0:00:00\u001b[0m\n",
            "\u001b[?25hInstalling collected packages: xxhash, sacremoses, jmespath, fsspec, dill, multiprocess, botocore, s3transfer, datasets, boto3\n",
            "  Attempting uninstall: fsspec\n",
            "    Found existing installation: fsspec 2025.3.2\n",
            "    Uninstalling fsspec-2025.3.2:\n",
            "      Successfully uninstalled fsspec-2025.3.2\n",
            "\u001b[31mERROR: pip's dependency resolver does not currently take into account all the packages that are installed. This behaviour is the source of the following dependency conflicts.\n",
            "torch 2.6.0+cu124 requires nvidia-cublas-cu12==12.4.5.8; platform_system == \"Linux\" and platform_machine == \"x86_64\", but you have nvidia-cublas-cu12 12.5.3.2 which is incompatible.\n",
            "torch 2.6.0+cu124 requires nvidia-cuda-cupti-cu12==12.4.127; platform_system == \"Linux\" and platform_machine == \"x86_64\", but you have nvidia-cuda-cupti-cu12 12.5.82 which is incompatible.\n",
            "torch 2.6.0+cu124 requires nvidia-cuda-nvrtc-cu12==12.4.127; platform_system == \"Linux\" and platform_machine == \"x86_64\", but you have nvidia-cuda-nvrtc-cu12 12.5.82 which is incompatible.\n",
            "torch 2.6.0+cu124 requires nvidia-cuda-runtime-cu12==12.4.127; platform_system == \"Linux\" and platform_machine == \"x86_64\", but you have nvidia-cuda-runtime-cu12 12.5.82 which is incompatible.\n",
            "torch 2.6.0+cu124 requires nvidia-cudnn-cu12==9.1.0.70; platform_system == \"Linux\" and platform_machine == \"x86_64\", but you have nvidia-cudnn-cu12 9.3.0.75 which is incompatible.\n",
            "torch 2.6.0+cu124 requires nvidia-cufft-cu12==11.2.1.3; platform_system == \"Linux\" and platform_machine == \"x86_64\", but you have nvidia-cufft-cu12 11.2.3.61 which is incompatible.\n",
            "torch 2.6.0+cu124 requires nvidia-curand-cu12==10.3.5.147; platform_system == \"Linux\" and platform_machine == \"x86_64\", but you have nvidia-curand-cu12 10.3.6.82 which is incompatible.\n",
            "torch 2.6.0+cu124 requires nvidia-cusolver-cu12==11.6.1.9; platform_system == \"Linux\" and platform_machine == \"x86_64\", but you have nvidia-cusolver-cu12 11.6.3.83 which is incompatible.\n",
            "torch 2.6.0+cu124 requires nvidia-cusparse-cu12==12.3.1.170; platform_system == \"Linux\" and platform_machine == \"x86_64\", but you have nvidia-cusparse-cu12 12.5.1.3 which is incompatible.\n",
            "torch 2.6.0+cu124 requires nvidia-nvjitlink-cu12==12.4.127; platform_system == \"Linux\" and platform_machine == \"x86_64\", but you have nvidia-nvjitlink-cu12 12.5.82 which is incompatible.\n",
            "gcsfs 2025.3.2 requires fsspec==2025.3.2, but you have fsspec 2024.12.0 which is incompatible.\u001b[0m\u001b[31m\n",
            "\u001b[0mSuccessfully installed boto3-1.37.31 botocore-1.37.31 datasets-3.5.0 dill-0.3.8 fsspec-2024.12.0 jmespath-1.0.1 multiprocess-0.70.16 s3transfer-0.11.4 sacremoses-0.1.1 xxhash-3.5.0\n"
          ]
        }
      ],
      "source": [
        "!pip install tqdm boto3 requests regex sentencepiece sacremoses datasets pandas"
      ]
    },
    {
      "cell_type": "code",
      "source": [
        "import kagglehub\n",
        "\n",
        "# Download latest version\n",
        "path = kagglehub.dataset_download(\"thedevastator/unlocking-language-understanding-with-the-multin\")\n",
        "\n",
        "print(\"Path to dataset files:\", path)"
      ],
      "metadata": {
        "colab": {
          "base_uri": "https://localhost:8080/"
        },
        "id": "1WUgb3oBWMuv",
        "outputId": "4dc8496f-3ddc-426d-a493-1a40179339a4"
      },
      "execution_count": 2,
      "outputs": [
        {
          "output_type": "stream",
          "name": "stdout",
          "text": [
            "Path to dataset files: /kaggle/input/unlocking-language-understanding-with-the-multin\n"
          ]
        }
      ]
    },
    {
      "cell_type": "code",
      "execution_count": 3,
      "metadata": {
        "colab": {
          "base_uri": "https://localhost:8080/",
          "height": 330,
          "referenced_widgets": [
            "ec0b2857ac534ff3a1701d4b71703efd",
            "b3e06e0367a94a7894f7cd73feb51c62",
            "7fa54b3f103746098602270cae75fd23",
            "f54e457d573144eeb11f874a5380542b",
            "108dc191fe2049799355042d528f27a9",
            "111d4c6ed23d42289cccc950f35b8258",
            "76747f25d558420992592ff69c7a0051",
            "7d4cf37c8e2b466d9d0a3478bc503c65",
            "d38e09ec47f242b0a34439cdcde6d4ac",
            "b24e2a8691ad4a15b94c51ac52ea0337",
            "46a8e0bce2f74a19bb578ac218ef77ab",
            "cd8211164cab425e983a843923c8e695",
            "507833cb6ae640729a49df2e7fef45f8",
            "9052673c15634eb6a38b5357ea497a56",
            "c66830863a974b2890b9a90057cc316f",
            "d7f2c2570049459497c66a4a76d5a48c",
            "fe962e68f70c472ab27d7aa0650375d6",
            "9ee8d16efee04ee2a176d09a714296ce",
            "6031fbcfa1b14d4cbcb83cc15b856423",
            "1d3246a311cb46f9ab7d23f4b2b6d95d",
            "b9334a11d0ef4867ad814320d57cf2dd",
            "1baaf6a5f4be41bb96372ecf87e44d1b",
            "11d19142636e4f6fb0efa3030db7d78b",
            "949d7f7aff4943018e94e82d57d08b49",
            "8c95d94381d647b7b545c68fd4fe7637",
            "dbc80d62eca141398ed74d2eceb07f4a",
            "572e0736b00c444293764bc503ea9ab8",
            "0fa2c9e161c84a20932dd7bdf32b54e0",
            "7209839870324fe1a94fd45c2903bc86",
            "2462aa0d603a415d88c47c64269ba41c",
            "e63c8557976246d989d2d467d6c605ac",
            "be427ed2e326424597a60fe786a652ca",
            "ad56aca4235e400ba7a10c58686dd028",
            "0ccdda03880d4e51aafe9993e813f5af",
            "aa5108a4abbb4255a4e3dcb22283a1bb",
            "9310261554634bccb75ff518cf79324b",
            "57c9be5f24784c8d8f2e8cbb68eeb159",
            "664839d2a87d40ec9bd40b783f2ddc67",
            "b714abb954334970b5014588d9151d38",
            "b47f69d8ad63429db3c6313e11d03252",
            "7ffd0448fa6749b9a1132c0288660547",
            "2160a199be1749b4a6408dbec2aeabdb",
            "6025c241eead4d37ab3f37dd4e294c00",
            "b3eac7ebb2d847e1be34b5c75a470382"
          ]
        },
        "id": "QObF2OAzYwLi",
        "outputId": "9bf8c662-54b0-4956-a677-bf7753947394"
      },
      "outputs": [
        {
          "output_type": "stream",
          "name": "stderr",
          "text": [
            "/usr/local/lib/python3.11/dist-packages/torch/hub.py:330: UserWarning: You are about to download and run code from an untrusted repository. In a future release, this won't be allowed. To add the repository to your trusted list, change the command to {calling_fn}(..., trust_repo=False) and a command prompt will appear asking for an explicit confirmation of trust, or load(..., trust_repo=True), which will assume that the prompt is to be answered with 'yes'. You can also use load(..., trust_repo='check') which will only prompt for confirmation if the repo is not already trusted. This will eventually be the default behaviour\n",
            "  warnings.warn(\n",
            "Downloading: \"https://github.com/huggingface/pytorch-transformers/zipball/main\" to /root/.cache/torch/hub/main.zip\n",
            "/usr/local/lib/python3.11/dist-packages/huggingface_hub/utils/_auth.py:94: UserWarning: \n",
            "The secret `HF_TOKEN` does not exist in your Colab secrets.\n",
            "To authenticate with the Hugging Face Hub, create a token in your settings tab (https://huggingface.co/settings/tokens), set it as secret in your Google Colab and restart your session.\n",
            "You will be able to reuse this secret in all of your notebooks.\n",
            "Please note that authentication is recommended but still optional to access public models or datasets.\n",
            "  warnings.warn(\n"
          ]
        },
        {
          "output_type": "display_data",
          "data": {
            "text/plain": [
              "tokenizer_config.json:   0%|          | 0.00/48.0 [00:00<?, ?B/s]"
            ],
            "application/vnd.jupyter.widget-view+json": {
              "version_major": 2,
              "version_minor": 0,
              "model_id": "ec0b2857ac534ff3a1701d4b71703efd"
            }
          },
          "metadata": {}
        },
        {
          "output_type": "display_data",
          "data": {
            "text/plain": [
              "config.json:   0%|          | 0.00/570 [00:00<?, ?B/s]"
            ],
            "application/vnd.jupyter.widget-view+json": {
              "version_major": 2,
              "version_minor": 0,
              "model_id": "cd8211164cab425e983a843923c8e695"
            }
          },
          "metadata": {}
        },
        {
          "output_type": "display_data",
          "data": {
            "text/plain": [
              "vocab.txt:   0%|          | 0.00/232k [00:00<?, ?B/s]"
            ],
            "application/vnd.jupyter.widget-view+json": {
              "version_major": 2,
              "version_minor": 0,
              "model_id": "11d19142636e4f6fb0efa3030db7d78b"
            }
          },
          "metadata": {}
        },
        {
          "output_type": "display_data",
          "data": {
            "text/plain": [
              "tokenizer.json:   0%|          | 0.00/466k [00:00<?, ?B/s]"
            ],
            "application/vnd.jupyter.widget-view+json": {
              "version_major": 2,
              "version_minor": 0,
              "model_id": "0ccdda03880d4e51aafe9993e813f5af"
            }
          },
          "metadata": {}
        }
      ],
      "source": [
        "import torch\n",
        "from torch.utils.data import DataLoader\n",
        "\n",
        "tokenizer = torch.hub.load('huggingface/pytorch-transformers', 'tokenizer', 'bert-base-uncased')"
      ]
    },
    {
      "cell_type": "markdown",
      "source": [
        "# 데이터셋 구성 요소\n",
        "\n",
        "모델 학습에 필요한 '전제, 가설, 라벨' 형태로 가공한다.\n",
        "\n",
        "\n",
        "\n",
        "*   premise (전제)\n",
        "*   hypothesis (가설)\n",
        "* labels (라벨)\n",
        "\n",
        "✅ 라벨의 종류\n",
        "* **함의(Entailment)**: 전제가 가설을 지 지하는 경우.​ -> 0\n",
        "\n",
        "* **중립(Neutral)**: 전제가 가설에 대해 중립적이거나 관련이 없는 경우. -> 1\n",
        "\n",
        "* **모순(Contradiction)**: 전제가 가설과 모순되는 경우.​ -> 2\n",
        "\n"
      ],
      "metadata": {
        "id": "AVavpeEFukXT"
      }
    },
    {
      "cell_type": "code",
      "execution_count": 4,
      "metadata": {
        "id": "ZZ5OL7T96JtD"
      },
      "outputs": [],
      "source": [
        "import random\n",
        "import pandas as pd\n",
        "\n",
        "\n",
        "def load_data(path, nrows=None):\n",
        "  # nrows : 최대 몇줄까지 처리할 것인지 정함\n",
        "  # keep_default_na : 빈 문자열을 그대로 유지\n",
        "  df = pd.read_csv(path, nrows=nrows, keep_default_na=False)\n",
        "  data = []\n",
        "  for _, row in df.iterrows():\n",
        "    if len(row['premise']) * len(row['hypothesis']) != 0:\n",
        "      data.append({'premise': row['premise'], 'hypothesis': row['hypothesis'], 'label': row['label']})\n",
        "\n",
        "  return data\n",
        "\n",
        "\n",
        "train_data = load_data(path + '/train.csv', nrows=1000)\n",
        "test_data = load_data(path + '/validation_matched.csv', nrows=1000)"
      ]
    },
    {
      "cell_type": "code",
      "execution_count": 5,
      "metadata": {
        "colab": {
          "base_uri": "https://localhost:8080/"
        },
        "id": "nQGBzP318Rel",
        "outputId": "8ef9af54-e4dc-4e67-e5a1-ed0fc9cc7647"
      },
      "outputs": [
        {
          "output_type": "execute_result",
          "data": {
            "text/plain": [
              "({'premise': 'Conceptually cream skimming has two basic dimensions - product and geography.',\n",
              "  'hypothesis': 'Product and geography are what make cream skimming work. ',\n",
              "  'label': 1},\n",
              " {'premise': 'The new rights are nice enough',\n",
              "  'hypothesis': 'Everyone really likes the newest benefits ',\n",
              "  'label': 1})"
            ]
          },
          "metadata": {},
          "execution_count": 5
        }
      ],
      "source": [
        "train_data[0], test_data[0]"
      ]
    },
    {
      "cell_type": "code",
      "execution_count": 6,
      "metadata": {
        "id": "BhC_ETFZZRJ2"
      },
      "outputs": [],
      "source": [
        "def collate_fn(batch):\n",
        "  max_len = 400\n",
        "  texts, labels = [], []\n",
        "  for row in batch:\n",
        "    labels.append(row['label'])\n",
        "    texts.append(row['premise'] + row['hypothesis'])\n",
        "\n",
        "  texts = torch.LongTensor(tokenizer(texts, padding=True, truncation=True, max_length=max_len).input_ids)\n",
        "  labels = torch.LongTensor(labels)\n",
        "\n",
        "  return texts, labels\n",
        "\n",
        "\n",
        "train_loader = DataLoader(\n",
        "    train_data, batch_size=64, shuffle=True, collate_fn=collate_fn\n",
        ")\n",
        "test_loader = DataLoader(\n",
        "    test_data, batch_size=64, shuffle=False, collate_fn=collate_fn\n",
        ")"
      ]
    },
    {
      "cell_type": "code",
      "execution_count": 7,
      "metadata": {
        "colab": {
          "base_uri": "https://localhost:8080/",
          "height": 124,
          "referenced_widgets": [
            "1206ee74905a47d2bd9f34757922ca45",
            "16f8f022339348d4abb029fa5b03e1c4",
            "613c0371515a44abb3ce14274669e5fb",
            "a274838300d64bbd87f88aaf115b9300",
            "262e8c7d6fe94e94a22dd078314f17a8",
            "e07bbdd440244f66a119c3e776a9a521",
            "be1fd7b799a24f129b7b076997015f04",
            "a2e75dd3efa846f191bc8b6296b03705",
            "313f546dd5e747c1a347ffd9043808a5",
            "f511360aaa5e46c7ae6d7c1d5fbf5155",
            "2cc57f21433249ec99797345c89b5c4f"
          ]
        },
        "id": "WTOUG6zqCM6B",
        "outputId": "1adf4542-d984-41c4-b90a-55d5f2d57cf6"
      },
      "outputs": [
        {
          "output_type": "stream",
          "name": "stderr",
          "text": [
            "Using cache found in /root/.cache/torch/hub/huggingface_pytorch-transformers_main\n",
            "Xet Storage is enabled for this repo, but the 'hf_xet' package is not installed. Falling back to regular HTTP download. For better performance, install the package with: `pip install huggingface_hub[hf_xet]` or `pip install hf_xet`\n",
            "WARNING:huggingface_hub.file_download:Xet Storage is enabled for this repo, but the 'hf_xet' package is not installed. Falling back to regular HTTP download. For better performance, install the package with: `pip install huggingface_hub[hf_xet]` or `pip install hf_xet`\n"
          ]
        },
        {
          "output_type": "display_data",
          "data": {
            "text/plain": [
              "model.safetensors:   0%|          | 0.00/440M [00:00<?, ?B/s]"
            ],
            "application/vnd.jupyter.widget-view+json": {
              "version_major": 2,
              "version_minor": 0,
              "model_id": "1206ee74905a47d2bd9f34757922ca45"
            }
          },
          "metadata": {}
        }
      ],
      "source": [
        "from torch import nn\n",
        "\n",
        "\n",
        "class TextClassifier(nn.Module):\n",
        "  def __init__(self):\n",
        "    super().__init__()\n",
        "    #사전 학습한 BERT 모델\n",
        "    self.encoder = torch.hub.load('huggingface/pytorch-transformers', 'model', 'bert-base-uncased')\n",
        "    #클래스 3개!\n",
        "    self.classifier = nn.Linear(768, 3)\n",
        "\n",
        "  def forward(self, x):\n",
        "    #last_hidden_state : 각 토큰에 대해 의미를 담은 벡터\n",
        "    #어텐션이 적용됨\n",
        "    x = self.encoder(x)['last_hidden_state']\n",
        "    # 맨 첫번째 CLS 토큰 뽑기\n",
        "    # BERT에서는 [CLS]가 이 문장이 전체적인 의미를 요약해서 담은 대표 벡터이다.\n",
        "    x = self.classifier(x[:, 0])\n",
        "\n",
        "    return x\n",
        "\n",
        "\n",
        "model = TextClassifier()"
      ]
    },
    {
      "cell_type": "code",
      "execution_count": 8,
      "metadata": {
        "id": "eUbpmsuv5Zl0"
      },
      "outputs": [],
      "source": [
        "for param in model.encoder.parameters():\n",
        "  param.requires_grad = False"
      ]
    },
    {
      "cell_type": "markdown",
      "source": [
        "FREEZE!!"
      ],
      "metadata": {
        "id": "00iRA9c45xZ0"
      }
    },
    {
      "cell_type": "markdown",
      "source": [
        "## 사전학습 x 트랜스포머"
      ],
      "metadata": {
        "id": "mgeYRC3cIWQN"
      }
    },
    {
      "cell_type": "code",
      "source": [
        "from torch import nn\n",
        "from math import sqrt\n",
        "\n",
        "\n",
        "class MultiHeadAttention(nn.Module):\n",
        "  def __init__(self, input_dim, d_model, n_heads):\n",
        "    super().__init__()\n",
        "\n",
        "    # 입력 벡터 차원\n",
        "    self.input_dim = input_dim\n",
        "\n",
        "    # Q, K, V 및 최종 출력 차원\n",
        "    self.d_model = d_model\n",
        "\n",
        "    #n_heads 헤드의 개수?!\n",
        "    self.n_heads = n_heads\n",
        "\n",
        "    # Q, K, V에 곱할 가중치 행렬값\n",
        "    self.wq = nn.Linear(input_dim, d_model)\n",
        "    self.wk = nn.Linear(input_dim, d_model)\n",
        "    self.wv = nn.Linear(input_dim, d_model)\n",
        "\n",
        "    # 은닉층 한 번 선형 결과를 만들어서 정확도를 더 높여준다\n",
        "    self.dense = nn.Linear(d_model, d_model)\n",
        "\n",
        "    # 어텐션 스코어 계산에 필요한 소프트맥스. 확률 분포로 변환시켜준다. 0~1사이의 값\n",
        "    self.softmax = nn.Softmax(dim=-1)\n",
        "\n",
        "  def forward(self, x, mask):\n",
        "    # Q, K, V 벡터 값 생성\n",
        "    q, k, v = self.wq(x), self.wk(x), self.wv(x) # (B, S, D)\n",
        "\n",
        "    # 배치 크기\n",
        "    B = q.shape[0]\n",
        "    # 시퀀스 길이\n",
        "    S = q.shape[1]\n",
        "    # 임베딩 벡터 차원 근데 얘는 D = H * D' | D' = D // 2 (정수로 나눠야함)\n",
        "    D_HEAD = self.d_model // self.n_heads\n",
        "\n",
        "    #Q, K, V를 (B, S, H, D')로 리쉐이프 + (B,H,S,D')로 순서 바꿔줘야함 이런\n",
        "    q = q.reshape(B, S, self.n_heads, D_HEAD).transpose(1,2)\n",
        "    k = k.reshape(B, S, self.n_heads, D_HEAD).transpose(1,2)\n",
        "    v = v.reshape(B, S, self.n_heads, D_HEAD).transpose(1,2)\n",
        "\n",
        "\n",
        "    # Q * K^T 쿼리와 키의 유사도를 구함\n",
        "    score = torch.matmul(q, k.transpose(-1, -2)) # (B,H,S,D') * (B,H,D',S) = (B, H, S, S)\n",
        "    # 스케일링 : 루트 d로 나누어서 크기 조정을 한다.\n",
        "    score = score / sqrt(self.d_model)\n",
        "\n",
        "    # 마스킹 - 패딩 토큰 무시. 0에 수렴하도록? 거의 안보이게 하기 위해 -1e9 더함\n",
        "    # score의 (B, H, S, S) 쉐이프에 맞춰야함\n",
        "    # 마스크 값의 shape는 (B, 1, S).... 행렬 덧셈 조건에 맞게 차원을 더 추가해서 (B, 1, X, S) 이런식으로 하면 될듯\n",
        "    if mask is not None:\n",
        "      mask = mask[:, None]\n",
        "      score = score + (mask * -1e9)\n",
        "\n",
        "    # 스코어를 소프트 맥스로 변환\n",
        "    score = self.softmax(score)\n",
        "    # 어텐션 스코어를 value의 벡터에 곱해서 문맥을 반영한 최종 벡터 꺼냄\n",
        "    result = torch.matmul(score, v) # -> (B, S, H, D')\n",
        "\n",
        "    # (B, S, D)로 리쉐이프\n",
        "    result = result.transpose(1,2) #(B, H, S, D')\n",
        "    result = result.reshape((B, S, -1)) #(B,S,D)\n",
        "\n",
        "    # 최종 출력값 변환\n",
        "    result = self.dense(result) # -> (B, S, D)\n",
        "\n",
        "    return result"
      ],
      "metadata": {
        "id": "Bu_vWYdIH-Pa"
      },
      "execution_count": 9,
      "outputs": []
    },
    {
      "cell_type": "code",
      "source": [
        "import numpy as np\n",
        "\n",
        "\n",
        "def get_angles(pos, i, d_model):\n",
        "    angle_rates = 1 / np.power(10000, (2 * (i // 2)) / np.float32(d_model))\n",
        "    return pos * angle_rates\n",
        "# 포지셔널 인코딩\n",
        "# 트랜스포머를 사용하려면 순서 정보 벡터값을 따로 계산해서 입력해줘야한다.\n",
        "def positional_encoding(position, d_model):\n",
        "    angle_rads = get_angles(np.arange(position)[:, None], np.arange(d_model)[None, :], d_model)\n",
        "    angle_rads[:, 0::2] = np.sin(angle_rads[:, 0::2])\n",
        "    angle_rads[:, 1::2] = np.cos(angle_rads[:, 1::2])\n",
        "    pos_encoding = angle_rads[None, ...]\n",
        "\n",
        "    return torch.FloatTensor(pos_encoding)\n",
        "\n",
        "\n",
        "max_len = 400\n",
        "print(positional_encoding(max_len, 256).shape)"
      ],
      "metadata": {
        "id": "cP90LPcjIZr3",
        "colab": {
          "base_uri": "https://localhost:8080/"
        },
        "outputId": "52a29745-b989-4db3-cc94-bbd3bd72ca85"
      },
      "execution_count": 10,
      "outputs": [
        {
          "output_type": "stream",
          "name": "stdout",
          "text": [
            "torch.Size([1, 400, 256])\n"
          ]
        }
      ]
    },
    {
      "cell_type": "code",
      "source": [
        "#트랜스포머\n",
        "class TransformerLayer(nn.Module):\n",
        "  def __init__(self, input_dim, d_model, dff, n_heads):\n",
        "    super().__init__()\n",
        "\n",
        "    self.input_dim = input_dim # 입력 벡터 차원\n",
        "    self.d_model = d_model # 모델 크기\n",
        "    self.dff = dff #은닉층 크기\n",
        "\n",
        "    self.mha = MultiHeadAttention(input_dim, d_model, n_heads) #멀티 헤드 어텐션 계산\n",
        "\n",
        "    # 그냥 우리가 알고있는 MLP\n",
        "    # 언어를 학습시키는 데 더 많은 가중치(weight)를 부여함\n",
        "    # 비선형 처리 + 추가 가중치\n",
        "    self.ffn = nn.Sequential(\n",
        "      nn.Linear(d_model, dff),\n",
        "      nn.ReLU(),\n",
        "      nn.Linear(dff, d_model)\n",
        "    )\n",
        "\n",
        "    # residual + 레이어 정규화\n",
        "    self.norm1 = nn.LayerNorm(d_model)\n",
        "    self.dropout1 = nn.Dropout(0.1)\n",
        "    self.norm2 = nn.LayerNorm(d_model)\n",
        "    self.dropout2 = nn.Dropout(0.1)\n",
        "\n",
        "  def forward(self, x, mask):\n",
        "    x1 = self.mha(x, mask) #1. 멀티헤드 어텐션의 결과를 가져온다.\n",
        "    x1 = self.dropout1(x1)\n",
        "    x1 = self.norm1(x + x1)\n",
        "\n",
        "    x2 = self.ffn(x1)\n",
        "    x2 = self.dropout2(x2)\n",
        "    x2 = self.norm2(x1 + x2)\n",
        "\n",
        "    return x2"
      ],
      "metadata": {
        "id": "xpKSLoxjK_61"
      },
      "execution_count": 12,
      "outputs": []
    },
    {
      "cell_type": "code",
      "source": [
        "class TextClassifierNotPreTrained(nn.Module):\n",
        "  def __init__(self, vocab_size, d_model, n_layers, dff, n_heads):\n",
        "    super().__init__()\n",
        "\n",
        "    self.vocab_size = vocab_size\n",
        "    self.d_model = d_model\n",
        "    self.n_layers = n_layers\n",
        "    self.dff = dff\n",
        "\n",
        "    # 워드 임베딩\n",
        "    self.embedding = nn.Embedding(vocab_size, d_model)\n",
        "    # 포지셔널 인코딩\n",
        "    self.pos_encoding = nn.parameter.Parameter(positional_encoding(max_len, d_model), requires_grad=False)\n",
        "    # rnn 대신 트랜스포머 레이어를 통과시킴.\n",
        "    # 인코더, 디코더를 여러개 두고 쓰는 방식이라서 여러개를 만들어서 통과시키는듯\n",
        "    self.layers = nn.ModuleList([TransformerLayer(d_model, d_model, dff, n_heads) for _ in range(n_layers)])\n",
        "    self.classification = nn.Linear(d_model, 3)\n",
        "\n",
        "  def forward(self, x):\n",
        "    # x의 shape == (batch_size, seq_len, d_model)\n",
        "    # 마스크 정의: 패딩 토큰이 있다면 true\n",
        "    mask = (x == tokenizer.pad_token_id)\n",
        "    mask = mask[:, None, :] # -> (B,1,S)?\n",
        "\n",
        "    # 시퀀스 데이터의 길이\n",
        "    seq_len = x.shape[1]\n",
        "\n",
        "    # 워드 임베딩\n",
        "    x = self.embedding(x)\n",
        "    # 노멀라이즈?\n",
        "    x = x * sqrt(self.d_model)\n",
        "    # 포지셔널 인코딩 - 위치 정보 벡터 추가\n",
        "    x = x + self.pos_encoding[:, :seq_len]\n",
        "\n",
        "    # 트랜스포머의 레이어 갯수만큼 돌려라...\n",
        "    for layer in self.layers:\n",
        "      x = layer(x, mask)\n",
        "\n",
        "    x = x[:, 0] # 첫번째 차원(배치)에서 모든 요소를 선택, 두번째 차원(시퀀스 데이터) 첫번째 요소만 선택해서 마지막 단어를 예측하게끔 하는듯\n",
        "    x = self.classification(x)\n",
        "\n",
        "    return x\n",
        "\n",
        "\n",
        "modelWithTransformer = TextClassifierNotPreTrained(len(tokenizer), 32, 5, 32, 4)"
      ],
      "metadata": {
        "id": "deDXqOUVIboA"
      },
      "execution_count": 13,
      "outputs": []
    },
    {
      "cell_type": "code",
      "execution_count": 14,
      "metadata": {
        "id": "hJYESKJu5jKc"
      },
      "outputs": [],
      "source": [
        "def accuracy(model, dataloader):\n",
        "  cnt = 0\n",
        "  acc = 0\n",
        "\n",
        "  for data in dataloader:\n",
        "    inputs, labels = data\n",
        "    inputs, labels = inputs.to('cuda'), labels.to('cuda')\n",
        "\n",
        "    preds = model(inputs)\n",
        "    preds = torch.argmax(preds, dim=-1)\n",
        "\n",
        "    cnt += labels.shape[0]\n",
        "    acc += (labels == preds).sum().item()\n",
        "\n",
        "  return acc / cnt\n",
        "\n",
        "train_accs = []\n",
        "test_accs = []"
      ]
    },
    {
      "cell_type": "markdown",
      "source": [
        "## 트랜스포머 학습"
      ],
      "metadata": {
        "id": "hhOXti_6IyDI"
      }
    },
    {
      "cell_type": "code",
      "source": [
        "from torch.optim import Adam\n",
        "import numpy as np\n",
        "import matplotlib.pyplot as plt\n",
        "\n",
        "\n",
        "lr = 0.001\n",
        "modelWithTransformer = modelWithTransformer.to('cuda')\n",
        "loss_fn = nn.CrossEntropyLoss()\n",
        "\n",
        "optimizer = Adam(modelWithTransformer.parameters(), lr=lr)\n",
        "n_epochs = 50\n",
        "train_losses2 = []\n",
        "train_accs2 = []\n",
        "test_accs2 = []\n",
        "\n",
        "for epoch in range(n_epochs):\n",
        "  total_loss = 0.\n",
        "  modelWithTransformer.train()\n",
        "  for data in train_loader:\n",
        "    modelWithTransformer.zero_grad()\n",
        "    inputs, labels = data\n",
        "    inputs, labels = inputs.to('cuda'), labels.to('cuda')\n",
        "\n",
        "    preds = modelWithTransformer(inputs)\n",
        "    loss = loss_fn(preds, labels)\n",
        "    loss.backward()\n",
        "    optimizer.step()\n",
        "\n",
        "    total_loss += loss.item()\n",
        "\n",
        "  avg_loss = total_loss / len(train_loader)\n",
        "  train_losses2.append(avg_loss)\n",
        "\n",
        "  print(f\"Epoch {epoch:3d} | Train Loss: {total_loss}\")\n",
        "\n",
        "  with torch.no_grad():\n",
        "    modelWithTransformer.eval()\n",
        "    train_acc = accuracy(modelWithTransformer, train_loader)\n",
        "    test_acc = accuracy(modelWithTransformer, test_loader)\n",
        "\n",
        "    train_accs2.append(train_acc)\n",
        "    test_accs2.append(test_acc)\n",
        "    print(f\"=========> Train acc: {train_acc:.3f} | Test acc: {test_acc:.3f}\")"
      ],
      "metadata": {
        "id": "K9SL2YtTIzsu",
        "colab": {
          "base_uri": "https://localhost:8080/"
        },
        "outputId": "95970756-61b8-43a4-e43b-e63d25d1186e"
      },
      "execution_count": 16,
      "outputs": [
        {
          "output_type": "stream",
          "name": "stdout",
          "text": [
            "Epoch   0 | Train Loss: 17.9515460729599\n",
            "=========> Train acc: 0.376 | Test acc: 0.341\n",
            "Epoch   1 | Train Loss: 17.3117413520813\n",
            "=========> Train acc: 0.381 | Test acc: 0.345\n",
            "Epoch   2 | Train Loss: 17.29813301563263\n",
            "=========> Train acc: 0.423 | Test acc: 0.351\n",
            "Epoch   3 | Train Loss: 16.930431485176086\n",
            "=========> Train acc: 0.483 | Test acc: 0.343\n",
            "Epoch   4 | Train Loss: 16.312215387821198\n",
            "=========> Train acc: 0.511 | Test acc: 0.348\n",
            "Epoch   5 | Train Loss: 15.25848799943924\n",
            "=========> Train acc: 0.611 | Test acc: 0.369\n",
            "Epoch   6 | Train Loss: 13.88969612121582\n",
            "=========> Train acc: 0.680 | Test acc: 0.355\n",
            "Epoch   7 | Train Loss: 11.835309565067291\n",
            "=========> Train acc: 0.750 | Test acc: 0.345\n",
            "Epoch   8 | Train Loss: 10.523973047733307\n",
            "=========> Train acc: 0.771 | Test acc: 0.352\n",
            "Epoch   9 | Train Loss: 8.27728596329689\n",
            "=========> Train acc: 0.882 | Test acc: 0.344\n",
            "Epoch  10 | Train Loss: 6.12438777089119\n",
            "=========> Train acc: 0.912 | Test acc: 0.353\n",
            "Epoch  11 | Train Loss: 4.401413768529892\n",
            "=========> Train acc: 0.947 | Test acc: 0.347\n",
            "Epoch  12 | Train Loss: 2.8333868607878685\n",
            "=========> Train acc: 0.970 | Test acc: 0.346\n",
            "Epoch  13 | Train Loss: 1.9762413576245308\n",
            "=========> Train acc: 0.989 | Test acc: 0.348\n",
            "Epoch  14 | Train Loss: 1.4978276453912258\n",
            "=========> Train acc: 0.990 | Test acc: 0.345\n",
            "Epoch  15 | Train Loss: 1.190774116665125\n",
            "=========> Train acc: 0.995 | Test acc: 0.341\n",
            "Epoch  16 | Train Loss: 0.7432747669517994\n",
            "=========> Train acc: 0.996 | Test acc: 0.342\n",
            "Epoch  17 | Train Loss: 0.8416006006300449\n",
            "=========> Train acc: 0.995 | Test acc: 0.342\n",
            "Epoch  18 | Train Loss: 0.8654376696795225\n",
            "=========> Train acc: 0.997 | Test acc: 0.350\n",
            "Epoch  19 | Train Loss: 0.6933565372601151\n",
            "=========> Train acc: 0.991 | Test acc: 0.360\n",
            "Epoch  20 | Train Loss: 0.710647439584136\n",
            "=========> Train acc: 0.997 | Test acc: 0.357\n",
            "Epoch  21 | Train Loss: 0.6011551637202501\n",
            "=========> Train acc: 0.997 | Test acc: 0.357\n",
            "Epoch  22 | Train Loss: 0.4368453249335289\n",
            "=========> Train acc: 0.997 | Test acc: 0.355\n",
            "Epoch  23 | Train Loss: 0.648055643774569\n",
            "=========> Train acc: 0.996 | Test acc: 0.356\n",
            "Epoch  24 | Train Loss: 0.5359224798157811\n",
            "=========> Train acc: 0.998 | Test acc: 0.356\n",
            "Epoch  25 | Train Loss: 0.3511051870882511\n",
            "=========> Train acc: 0.998 | Test acc: 0.361\n",
            "Epoch  26 | Train Loss: 0.4582374822348356\n",
            "=========> Train acc: 0.998 | Test acc: 0.362\n",
            "Epoch  27 | Train Loss: 0.4034353643655777\n",
            "=========> Train acc: 0.998 | Test acc: 0.358\n",
            "Epoch  28 | Train Loss: 0.34991816245019436\n",
            "=========> Train acc: 0.997 | Test acc: 0.358\n",
            "Epoch  29 | Train Loss: 0.35639068204909563\n",
            "=========> Train acc: 0.992 | Test acc: 0.348\n",
            "Epoch  30 | Train Loss: 0.4729125644080341\n",
            "=========> Train acc: 0.992 | Test acc: 0.346\n",
            "Epoch  31 | Train Loss: 0.9550287928432226\n",
            "=========> Train acc: 0.994 | Test acc: 0.343\n",
            "Epoch  32 | Train Loss: 0.8713675052858889\n",
            "=========> Train acc: 0.994 | Test acc: 0.356\n",
            "Epoch  33 | Train Loss: 0.9253856302239001\n",
            "=========> Train acc: 0.987 | Test acc: 0.339\n",
            "Epoch  34 | Train Loss: 1.3429866200312972\n",
            "=========> Train acc: 0.984 | Test acc: 0.359\n",
            "Epoch  35 | Train Loss: 0.9784743366762996\n",
            "=========> Train acc: 0.991 | Test acc: 0.369\n",
            "Epoch  36 | Train Loss: 0.510544300545007\n",
            "=========> Train acc: 0.997 | Test acc: 0.368\n",
            "Epoch  37 | Train Loss: 0.29692225344479084\n",
            "=========> Train acc: 0.999 | Test acc: 0.356\n",
            "Epoch  38 | Train Loss: 0.22601655730977654\n",
            "=========> Train acc: 0.998 | Test acc: 0.361\n",
            "Epoch  39 | Train Loss: 0.2356277802027762\n",
            "=========> Train acc: 0.998 | Test acc: 0.370\n",
            "Epoch  40 | Train Loss: 0.21626062225550413\n",
            "=========> Train acc: 0.999 | Test acc: 0.360\n",
            "Epoch  41 | Train Loss: 0.16464142524637282\n",
            "=========> Train acc: 0.999 | Test acc: 0.359\n",
            "Epoch  42 | Train Loss: 0.13606234011240304\n",
            "=========> Train acc: 0.999 | Test acc: 0.364\n",
            "Epoch  43 | Train Loss: 0.13158181076869369\n",
            "=========> Train acc: 0.999 | Test acc: 0.369\n",
            "Epoch  44 | Train Loss: 0.13643533922731876\n",
            "=========> Train acc: 0.998 | Test acc: 0.359\n",
            "Epoch  45 | Train Loss: 0.19449855643324554\n",
            "=========> Train acc: 0.998 | Test acc: 0.367\n",
            "Epoch  46 | Train Loss: 0.10973144136369228\n",
            "=========> Train acc: 0.999 | Test acc: 0.371\n",
            "Epoch  47 | Train Loss: 0.04942806949838996\n",
            "=========> Train acc: 0.999 | Test acc: 0.372\n",
            "Epoch  48 | Train Loss: 0.052126373164355755\n",
            "=========> Train acc: 1.000 | Test acc: 0.374\n",
            "Epoch  49 | Train Loss: 0.04332941968459636\n",
            "=========> Train acc: 1.000 | Test acc: 0.374\n"
          ]
        }
      ]
    },
    {
      "cell_type": "markdown",
      "source": [
        "## BERT 학습"
      ],
      "metadata": {
        "id": "hwcCygCrI6f-"
      }
    },
    {
      "cell_type": "code",
      "execution_count": null,
      "metadata": {
        "colab": {
          "base_uri": "https://localhost:8080/"
        },
        "id": "xgOvJ7nl5b8f",
        "outputId": "7c4639c3-f688-4c71-a46a-ee5b70230ce0"
      },
      "outputs": [
        {
          "output_type": "stream",
          "name": "stdout",
          "text": [
            "Epoch   0 | Train Loss: 17.999749064445496\n",
            "=========> Train acc: 0.377 | Test acc: 0.343\n",
            "Epoch   1 | Train Loss: 17.70098328590393\n",
            "=========> Train acc: 0.396 | Test acc: 0.343\n",
            "Epoch   2 | Train Loss: 17.545594811439514\n",
            "=========> Train acc: 0.377 | Test acc: 0.339\n",
            "Epoch   3 | Train Loss: 17.327432513237\n",
            "=========> Train acc: 0.403 | Test acc: 0.350\n",
            "Epoch   4 | Train Loss: 17.303656816482544\n",
            "=========> Train acc: 0.415 | Test acc: 0.343\n",
            "Epoch   5 | Train Loss: 17.272543907165527\n",
            "=========> Train acc: 0.355 | Test acc: 0.339\n",
            "Epoch   6 | Train Loss: 17.46019470691681\n",
            "=========> Train acc: 0.404 | Test acc: 0.351\n",
            "Epoch   7 | Train Loss: 17.26729416847229\n",
            "=========> Train acc: 0.419 | Test acc: 0.348\n",
            "Epoch   8 | Train Loss: 17.324129939079285\n",
            "=========> Train acc: 0.443 | Test acc: 0.361\n",
            "Epoch   9 | Train Loss: 17.16595160961151\n",
            "=========> Train acc: 0.434 | Test acc: 0.366\n",
            "Epoch  10 | Train Loss: 17.13117802143097\n",
            "=========> Train acc: 0.453 | Test acc: 0.363\n",
            "Epoch  11 | Train Loss: 17.11646318435669\n",
            "=========> Train acc: 0.477 | Test acc: 0.374\n",
            "Epoch  12 | Train Loss: 16.95285177230835\n",
            "=========> Train acc: 0.455 | Test acc: 0.384\n",
            "Epoch  13 | Train Loss: 16.91405940055847\n",
            "=========> Train acc: 0.417 | Test acc: 0.393\n",
            "Epoch  14 | Train Loss: 17.06455373764038\n",
            "=========> Train acc: 0.472 | Test acc: 0.384\n",
            "Epoch  15 | Train Loss: 16.96985363960266\n",
            "=========> Train acc: 0.489 | Test acc: 0.402\n",
            "Epoch  16 | Train Loss: 16.929975986480713\n",
            "=========> Train acc: 0.470 | Test acc: 0.365\n",
            "Epoch  17 | Train Loss: 16.874028146266937\n",
            "=========> Train acc: 0.490 | Test acc: 0.394\n",
            "Epoch  18 | Train Loss: 16.8676056265831\n",
            "=========> Train acc: 0.456 | Test acc: 0.373\n",
            "Epoch  19 | Train Loss: 16.740933299064636\n",
            "=========> Train acc: 0.487 | Test acc: 0.363\n",
            "Epoch  20 | Train Loss: 16.809013962745667\n",
            "=========> Train acc: 0.450 | Test acc: 0.369\n",
            "Epoch  21 | Train Loss: 16.963099122047424\n",
            "=========> Train acc: 0.449 | Test acc: 0.395\n",
            "Epoch  22 | Train Loss: 16.733001470565796\n",
            "=========> Train acc: 0.488 | Test acc: 0.369\n",
            "Epoch  23 | Train Loss: 16.75922292470932\n",
            "=========> Train acc: 0.471 | Test acc: 0.385\n",
            "Epoch  24 | Train Loss: 17.08242642879486\n",
            "=========> Train acc: 0.511 | Test acc: 0.396\n",
            "Epoch  25 | Train Loss: 16.806872844696045\n",
            "=========> Train acc: 0.463 | Test acc: 0.368\n",
            "Epoch  26 | Train Loss: 16.54267418384552\n",
            "=========> Train acc: 0.500 | Test acc: 0.374\n",
            "Epoch  27 | Train Loss: 16.5750350356102\n",
            "=========> Train acc: 0.439 | Test acc: 0.380\n",
            "Epoch  28 | Train Loss: 16.732780754566193\n",
            "=========> Train acc: 0.476 | Test acc: 0.383\n",
            "Epoch  29 | Train Loss: 16.79530680179596\n",
            "=========> Train acc: 0.479 | Test acc: 0.368\n",
            "Epoch  30 | Train Loss: 16.631635904312134\n",
            "=========> Train acc: 0.490 | Test acc: 0.406\n",
            "Epoch  31 | Train Loss: 16.612534046173096\n",
            "=========> Train acc: 0.459 | Test acc: 0.401\n",
            "Epoch  32 | Train Loss: 16.559458374977112\n",
            "=========> Train acc: 0.483 | Test acc: 0.413\n",
            "Epoch  33 | Train Loss: 16.582062363624573\n",
            "=========> Train acc: 0.500 | Test acc: 0.393\n",
            "Epoch  34 | Train Loss: 16.36751753091812\n",
            "=========> Train acc: 0.492 | Test acc: 0.388\n",
            "Epoch  35 | Train Loss: 16.490195214748383\n",
            "=========> Train acc: 0.496 | Test acc: 0.390\n",
            "Epoch  36 | Train Loss: 16.435500860214233\n",
            "=========> Train acc: 0.513 | Test acc: 0.387\n",
            "Epoch  37 | Train Loss: 16.507004499435425\n",
            "=========> Train acc: 0.473 | Test acc: 0.384\n",
            "Epoch  38 | Train Loss: 16.287625312805176\n",
            "=========> Train acc: 0.532 | Test acc: 0.383\n",
            "Epoch  39 | Train Loss: 16.742834270000458\n",
            "=========> Train acc: 0.540 | Test acc: 0.399\n",
            "Epoch  40 | Train Loss: 16.619559288024902\n",
            "=========> Train acc: 0.476 | Test acc: 0.400\n",
            "Epoch  41 | Train Loss: 16.539493203163147\n",
            "=========> Train acc: 0.518 | Test acc: 0.391\n",
            "Epoch  42 | Train Loss: 16.537697434425354\n",
            "=========> Train acc: 0.481 | Test acc: 0.406\n",
            "Epoch  43 | Train Loss: 16.791134893894196\n",
            "=========> Train acc: 0.441 | Test acc: 0.401\n",
            "Epoch  44 | Train Loss: 16.418714344501495\n",
            "=========> Train acc: 0.533 | Test acc: 0.399\n",
            "Epoch  45 | Train Loss: 16.33120685815811\n",
            "=========> Train acc: 0.552 | Test acc: 0.380\n",
            "Epoch  46 | Train Loss: 16.412976145744324\n",
            "=========> Train acc: 0.509 | Test acc: 0.410\n",
            "Epoch  47 | Train Loss: 16.56024020910263\n",
            "=========> Train acc: 0.492 | Test acc: 0.403\n",
            "Epoch  48 | Train Loss: 16.345347046852112\n",
            "=========> Train acc: 0.551 | Test acc: 0.395\n",
            "Epoch  49 | Train Loss: 16.275616228580475\n",
            "=========> Train acc: 0.549 | Test acc: 0.400\n"
          ]
        }
      ],
      "source": [
        "from torch.optim import Adam\n",
        "import numpy as np\n",
        "import matplotlib.pyplot as plt\n",
        "\n",
        "\n",
        "lr = 0.001\n",
        "model = model.to('cuda')\n",
        "loss_fn = nn.CrossEntropyLoss()\n",
        "\n",
        "optimizer = Adam(model.parameters(), lr=lr)\n",
        "n_epochs = 50\n",
        "train_losses = []\n",
        "\n",
        "for epoch in range(n_epochs):\n",
        "  total_loss = 0.\n",
        "  model.train()\n",
        "  for data in train_loader:\n",
        "    model.zero_grad()\n",
        "    inputs, labels = data\n",
        "    inputs, labels = inputs.to('cuda'), labels.to('cuda')\n",
        "\n",
        "    preds = model(inputs)\n",
        "    loss = loss_fn(preds, labels)\n",
        "    loss.backward()\n",
        "    optimizer.step()\n",
        "\n",
        "    total_loss += loss.item()\n",
        "\n",
        "  avg_loss = total_loss / len(train_loader)\n",
        "  train_losses.append(avg_loss)\n",
        "\n",
        "  print(f\"Epoch {epoch:3d} | Train Loss: {total_loss}\")\n",
        "\n",
        "  with torch.no_grad():\n",
        "    model.eval()\n",
        "    train_acc = accuracy(model, train_loader)\n",
        "    test_acc = accuracy(model, test_loader)\n",
        "\n",
        "    train_accs.append(train_acc)\n",
        "    test_accs.append(test_acc)\n",
        "    print(f\"=========> Train acc: {train_acc:.3f} | Test acc: {test_acc:.3f}\")"
      ]
    },
    {
      "cell_type": "markdown",
      "source": [
        "## 사전학습 BERT 정확도 비교"
      ],
      "metadata": {
        "id": "-ihRALCc7q-u"
      }
    },
    {
      "cell_type": "code",
      "execution_count": null,
      "metadata": {
        "id": "vnnmN8VW-2xS",
        "colab": {
          "base_uri": "https://localhost:8080/",
          "height": 472
        },
        "outputId": "e49b244f-a01d-418d-cbba-f59001907869"
      },
      "outputs": [
        {
          "output_type": "display_data",
          "data": {
            "text/plain": [
              "<Figure size 640x480 with 1 Axes>"
            ],
            "image/png": "[encoded data removed]"
          },
          "metadata": {}
        }
      ],
      "source": [
        "import matplotlib.pyplot as plt\n",
        "\n",
        "plt.plot(train_accs, label='Train Accuracy')\n",
        "plt.plot(test_accs, label='Test Accuracy')\n",
        "plt.xlabel('Epoch')\n",
        "plt.ylabel('Accuracy')\n",
        "plt.title('Accuracy over Epochs')\n",
        "plt.legend()\n",
        "plt.grid(True)\n",
        "plt.show()"
      ]
    },
    {
      "cell_type": "markdown",
      "source": [
        "## 트랜스포머 정확도 비교"
      ],
      "metadata": {
        "id": "ZwiO5Wd8Lf1w"
      }
    },
    {
      "cell_type": "code",
      "source": [
        "import matplotlib.pyplot as plt\n",
        "\n",
        "plt.plot(train_accs2, label='Train Accuracy')\n",
        "plt.plot(test_accs2, label='Test Accuracy')\n",
        "plt.xlabel('Epoch')\n",
        "plt.ylabel('Accuracy')\n",
        "plt.title('Accuracy over Epochs')\n",
        "plt.legend()\n",
        "plt.grid(True)\n",
        "plt.show()"
      ],
      "metadata": {
        "colab": {
          "base_uri": "https://localhost:8080/",
          "height": 472
        },
        "id": "1fnivGv0Ldti",
        "outputId": "3342f472-901d-476f-c9e7-eeb5791dc022"
      },
      "execution_count": 17,
      "outputs": [
        {
          "output_type": "display_data",
          "data": {
            "text/plain": [
              "<Figure size 640x480 with 1 Axes>"
            ],
            "image/png": "[encoded data removed]"
          },
          "metadata": {}
        }
      ]
    },
    {
      "cell_type": "markdown",
      "source": [
        "## 트랜스포머 loss 커브"
      ],
      "metadata": {
        "id": "9Oe6FF1QLirm"
      }
    },
    {
      "cell_type": "code",
      "source": [
        "plt.plot(range(1, n_epochs+1), train_losses2, marker='o')\n",
        "plt.title(\"Training Loss Curve\")\n",
        "plt.xlabel(\"Epoch\")\n",
        "plt.ylabel(\"Loss\")\n",
        "plt.grid(True)\n",
        "plt.show()"
      ],
      "metadata": {
        "colab": {
          "base_uri": "https://localhost:8080/",
          "height": 472
        },
        "id": "fs1ige3yLm5s",
        "outputId": "573bf5ca-7d80-440a-ce44-e646df1b8c4d"
      },
      "execution_count": 18,
      "outputs": [
        {
          "output_type": "display_data",
          "data": {
            "text/plain": [
              "<Figure size 640x480 with 1 Axes>"
            ],
            "image/png": "[encoded data removed]"
          },
          "metadata": {}
        }
      ]
    },
    {
      "cell_type": "markdown",
      "source": [
        "## BERT 로스 커브"
      ],
      "metadata": {
        "id": "IHPzhyvELpUi"
      }
    },
    {
      "cell_type": "code",
      "source": [
        "plt.plot(range(1, n_epochs+1), train_losses, marker='o')\n",
        "plt.title(\"Training Loss Curve\")\n",
        "plt.xlabel(\"Epoch\")\n",
        "plt.ylabel(\"Loss\")\n",
        "plt.grid(True)\n",
        "plt.show()\n"
      ],
      "metadata": {
        "colab": {
          "base_uri": "https://localhost:8080/",
          "height": 472
        },
        "id": "e_3J2g-HGmsd",
        "outputId": "9d32e161-d492-410f-bc5a-103b0fb1b4d7"
      },
      "execution_count": null,
      "outputs": [
        {
          "output_type": "display_data",
          "data": {
            "text/plain": [
              "<Figure size 640x480 with 1 Axes>"
            ],
            "image/png": "[encoded data removed]"
          },
          "metadata": {}
        }
      ]
    },
    {
      "cell_type": "markdown",
      "source": [
        "사전학습 BERT 샘플 테스트"
      ],
      "metadata": {
        "id": "eP4VQSoj7vuF"
      }
    },
    {
      "cell_type": "code",
      "source": [
        "\n",
        "from torch.nn.functional import softmax\n",
        "index = 5\n",
        "# 테스트 샘플 하나 꺼내기\n",
        "sample = test_data[index]\n",
        "\n",
        "#라벨\n",
        "label_map = {\n",
        "    0: \"entailment(지지)\",\n",
        "    1: \"neutral(중립)\",\n",
        "    2: \"contradiction(모순)\"\n",
        "}\n",
        "\n",
        "\n",
        "premise = sample['premise']\n",
        "hypothesis = sample['hypothesis']\n",
        "true_label = sample['label']\n",
        "\n",
        "encoded = tokenizer(premise, hypothesis, return_tensors='pt', truncation=True, padding=True, max_length=256)\n",
        "input_ids = encoded['input_ids'].to('cuda')\n",
        "attention_mask = encoded['attention_mask'].to('cuda')\n",
        "\n",
        "# 예측\n",
        "model.eval()\n",
        "with torch.no_grad():\n",
        "    logits = model(input_ids)\n",
        "    pred_class = logits.argmax(dim=-1).item()  # 예측 클래스 인덱스\n",
        "    # softmax로 확률 분포 체크\n",
        "    probs = softmax(logits, dim=-1)[0].tolist()\n",
        "\n",
        "\n",
        "# 출력\n",
        "print(\"🟦 전제:\")\n",
        "print(premise)\n",
        "print(\"\\n🟦 가설:\")\n",
        "print(hypothesis)\n",
        "print(\"\\n🟩 정답 라벨:\", f\"{true_label} ({label_map.get(true_label)})\")\n",
        "print(\"🟥 예측 라벨:\", f\"{pred_class} ({label_map.get(pred_class)})\")\n",
        "\n",
        "print(\"\\n📊 예측 확률 분포:\")\n",
        "for i, prob in enumerate(probs):\n",
        "    print(f\"  {label_map.get(i)}: {prob:.3f}\")"
      ],
      "metadata": {
        "colab": {
          "base_uri": "https://localhost:8080/"
        },
        "id": "FOE08lCg7w7l",
        "outputId": "3eaa5528-61e7-4f0c-bb83-7518763e855c"
      },
      "execution_count": null,
      "outputs": [
        {
          "output_type": "stream",
          "name": "stdout",
          "text": [
            "🟦 전제:\n",
            "well that would be a help i wish they would do that here we have got so little landfill space left that we're going to run out before the end of this decade and it's really going to be\n",
            "\n",
            "🟦 가설:\n",
            "We have plenty of space in the landfill.\n",
            "\n",
            "🟩 정답 라벨: 2 (contradiction(모순))\n",
            "🟥 예측 라벨: 2 (contradiction(모순))\n",
            "\n",
            "📊 예측 확률 분포:\n",
            "  entailment(지지): 0.136\n",
            "  neutral(중립): 0.300\n",
            "  contradiction(모순): 0.565\n"
          ]
        }
      ]
    }
  ],
  "metadata": {
    "accelerator": "GPU",
    "colab": {
      "gpuType": "T4",
      "provenance": []
    },
    "kernelspec": {
      "display_name": "Python 3",
      "name": "python3"
    },
    "language_info": {
      "name": "python"
    }
  },
  "nbformat": 4,
  "nbformat_minor": 0
}
