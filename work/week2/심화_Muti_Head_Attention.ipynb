{
  "cells": [
    {
      "cell_type": "markdown",
      "metadata": {
        "id": "ymxatB5WYxlL"
      },
      "source": [
        "# Transformer 실습 + MHA\n"
      ]
    },
    {
      "cell_type": "code",
      "source": [
        "torch.cuda.empty_cache()"
      ],
      "metadata": {
        "id": "h3Hw_IDIEFrU"
      },
      "execution_count": 68,
      "outputs": []
    },
    {
      "cell_type": "markdown",
      "source": [
        "## 1. 라이브러리 준비"
      ],
      "metadata": {
        "id": "QZQDhJginwTs"
      }
    },
    {
      "cell_type": "code",
      "execution_count": 69,
      "metadata": {
        "id": "1X7RM2du1zcr",
        "outputId": "f4c981f4-4318-438d-8fbb-5d31694f844c",
        "colab": {
          "base_uri": "https://localhost:8080/"
        }
      },
      "outputs": [
        {
          "output_type": "stream",
          "name": "stdout",
          "text": [
            "Requirement already satisfied: datasets in /usr/local/lib/python3.10/dist-packages (3.5.0)\n",
            "Requirement already satisfied: sacremoses in /usr/local/lib/python3.10/dist-packages (0.1.1)\n",
            "Requirement already satisfied: filelock in /usr/local/lib/python3.10/dist-packages (from datasets) (3.16.1)\n",
            "Requirement already satisfied: numpy>=1.17 in /usr/local/lib/python3.10/dist-packages (from datasets) (1.26.4)\n",
            "Requirement already satisfied: pyarrow>=15.0.0 in /usr/local/lib/python3.10/dist-packages (from datasets) (17.0.0)\n",
            "Requirement already satisfied: dill<0.3.9,>=0.3.0 in /usr/local/lib/python3.10/dist-packages (from datasets) (0.3.8)\n",
            "Requirement already satisfied: pandas in /usr/local/lib/python3.10/dist-packages (from datasets) (2.2.2)\n",
            "Requirement already satisfied: requests>=2.32.2 in /usr/local/lib/python3.10/dist-packages (from datasets) (2.32.3)\n",
            "Requirement already satisfied: tqdm>=4.66.3 in /usr/local/lib/python3.10/dist-packages (from datasets) (4.67.1)\n",
            "Requirement already satisfied: xxhash in /usr/local/lib/python3.10/dist-packages (from datasets) (3.5.0)\n",
            "Requirement already satisfied: multiprocess<0.70.17 in /usr/local/lib/python3.10/dist-packages (from datasets) (0.70.16)\n",
            "Requirement already satisfied: fsspec<=2024.12.0,>=2023.1.0 in /usr/local/lib/python3.10/dist-packages (from fsspec[http]<=2024.12.0,>=2023.1.0->datasets) (2024.10.0)\n",
            "Requirement already satisfied: aiohttp in /usr/local/lib/python3.10/dist-packages (from datasets) (3.11.11)\n",
            "Requirement already satisfied: huggingface-hub>=0.24.0 in /usr/local/lib/python3.10/dist-packages (from datasets) (0.27.1)\n",
            "Requirement already satisfied: packaging in /usr/local/lib/python3.10/dist-packages (from datasets) (24.2)\n",
            "Requirement already satisfied: pyyaml>=5.1 in /usr/local/lib/python3.10/dist-packages (from datasets) (6.0.2)\n",
            "Requirement already satisfied: regex in /usr/local/lib/python3.10/dist-packages (from sacremoses) (2024.11.6)\n",
            "Requirement already satisfied: click in /usr/local/lib/python3.10/dist-packages (from sacremoses) (8.1.8)\n",
            "Requirement already satisfied: joblib in /usr/local/lib/python3.10/dist-packages (from sacremoses) (1.4.2)\n",
            "Requirement already satisfied: aiohappyeyeballs>=2.3.0 in /usr/local/lib/python3.10/dist-packages (from aiohttp->datasets) (2.4.4)\n",
            "Requirement already satisfied: aiosignal>=1.1.2 in /usr/local/lib/python3.10/dist-packages (from aiohttp->datasets) (1.3.2)\n",
            "Requirement already satisfied: async-timeout<6.0,>=4.0 in /usr/local/lib/python3.10/dist-packages (from aiohttp->datasets) (4.0.3)\n",
            "Requirement already satisfied: attrs>=17.3.0 in /usr/local/lib/python3.10/dist-packages (from aiohttp->datasets) (24.3.0)\n",
            "Requirement already satisfied: frozenlist>=1.1.1 in /usr/local/lib/python3.10/dist-packages (from aiohttp->datasets) (1.5.0)\n",
            "Requirement already satisfied: multidict<7.0,>=4.5 in /usr/local/lib/python3.10/dist-packages (from aiohttp->datasets) (6.1.0)\n",
            "Requirement already satisfied: propcache>=0.2.0 in /usr/local/lib/python3.10/dist-packages (from aiohttp->datasets) (0.2.1)\n",
            "Requirement already satisfied: yarl<2.0,>=1.17.0 in /usr/local/lib/python3.10/dist-packages (from aiohttp->datasets) (1.18.3)\n",
            "Requirement already satisfied: typing-extensions>=3.7.4.3 in /usr/local/lib/python3.10/dist-packages (from huggingface-hub>=0.24.0->datasets) (4.12.2)\n",
            "Requirement already satisfied: charset-normalizer<4,>=2 in /usr/local/lib/python3.10/dist-packages (from requests>=2.32.2->datasets) (3.4.1)\n",
            "Requirement already satisfied: idna<4,>=2.5 in /usr/local/lib/python3.10/dist-packages (from requests>=2.32.2->datasets) (3.10)\n",
            "Requirement already satisfied: urllib3<3,>=1.21.1 in /usr/local/lib/python3.10/dist-packages (from requests>=2.32.2->datasets) (2.3.0)\n",
            "Requirement already satisfied: certifi>=2017.4.17 in /usr/local/lib/python3.10/dist-packages (from requests>=2.32.2->datasets) (2024.12.14)\n",
            "Requirement already satisfied: python-dateutil>=2.8.2 in /usr/local/lib/python3.10/dist-packages (from pandas->datasets) (2.8.2)\n",
            "Requirement already satisfied: pytz>=2020.1 in /usr/local/lib/python3.10/dist-packages (from pandas->datasets) (2024.2)\n",
            "Requirement already satisfied: tzdata>=2022.7 in /usr/local/lib/python3.10/dist-packages (from pandas->datasets) (2024.2)\n",
            "Requirement already satisfied: six>=1.5 in /usr/local/lib/python3.10/dist-packages (from python-dateutil>=2.8.2->pandas->datasets) (1.17.0)\n"
          ]
        }
      ],
      "source": [
        "!pip install datasets sacremoses"
      ]
    },
    {
      "cell_type": "markdown",
      "source": [
        "## 2. 데이터셋 준비"
      ],
      "metadata": {
        "id": "NLM4g-HUn2lf"
      }
    },
    {
      "cell_type": "code",
      "execution_count": 87,
      "metadata": {
        "id": "HOdhoBVA1zcu",
        "colab": {
          "base_uri": "https://localhost:8080/"
        },
        "outputId": "311c52ad-874b-4417-e111-ab2463e63693"
      },
      "outputs": [
        {
          "output_type": "stream",
          "name": "stderr",
          "text": [
            "Using cache found in /root/.cache/torch/hub/huggingface_pytorch-transformers_main\n"
          ]
        }
      ],
      "source": [
        "import torch\n",
        "from datasets import load_dataset\n",
        "from torch.utils.data import DataLoader\n",
        "from transformers import BertTokenizerFast\n",
        "from tokenizers import (\n",
        "    decoders,\n",
        "    models,\n",
        "    normalizers,\n",
        "    pre_tokenizers,\n",
        "    processors,\n",
        "    trainers,\n",
        "    Tokenizer,\n",
        ")\n",
        "\n",
        "\n",
        "# ds = load_dataset(\"stanfordnlp/imdb\")\n",
        "train_ds = load_dataset(\"stanfordnlp/imdb\", split=\"train[:5%]\")\n",
        "test_ds = load_dataset(\"stanfordnlp/imdb\", split=\"test[:5%]\")\n",
        "\n",
        "tokenizer = torch.hub.load('huggingface/pytorch-transformers', 'tokenizer', 'bert-base-uncased')\n",
        "\n",
        "\n",
        "from torch.nn.utils.rnn import pad_sequence\n",
        "\n",
        "def collate_fn(batch):\n",
        "  max_len = 400\n",
        "  texts, labels = [], []\n",
        "\n",
        "  # 배치 데이터의 각 행마다 반복\n",
        "  for row in batch:\n",
        "    # truncation이 True -> max length가 넘어가면 자름. 끝에서 3번째 토큰을 label(정답)로 선택\n",
        "    labels.append(tokenizer(row['text'], truncation=True, max_length=max_len).input_ids[-3])\n",
        "    # 마지막 3개를 제외한 앞 부분의 토큰들을 텐서로 변환한 후 텍스트(입력)로 사용\n",
        "    texts.append(torch.LongTensor(tokenizer(row['text'], truncation=True, max_length=max_len).input_ids[:-3]))\n",
        "\n",
        "  # 패딩 토큰 추가 (아마 400자 기준이겠지?)\n",
        "  texts = pad_sequence(texts, batch_first=True, padding_value=tokenizer.pad_token_id)\n",
        "  # labels를 텐서로 변환\n",
        "  labels = torch.LongTensor(labels)\n",
        "\n",
        "  return texts, labels\n",
        "\n",
        "# 각각 트레인 로더, 테스트 로더를 만들어준다. 배치사이즈는 64\n",
        "train_loader = DataLoader(\n",
        "    train_ds, batch_size=16, shuffle=True, collate_fn=collate_fn\n",
        ")\n",
        "test_loader = DataLoader(\n",
        "    test_ds, batch_size=16, shuffle=False, collate_fn=collate_fn\n",
        ")"
      ]
    },
    {
      "cell_type": "markdown",
      "source": [
        "- `tokenizer` → BERT 모델(bert-base-uncased)의 토크나이저를 가져옴\n",
        "    - bert : BERT 모델\n",
        "    - base : 12층 레이어, 은닉층 사이즈 768\n",
        "    - uncased  : 대소문자 구분 없이, 소문자로 바꿔서 처리함\n",
        "\n",
        "- 데이터의 배치 사이즈 64개 → 64개씩 묶어서 진행\n",
        "- label 값 = text 값(=리뷰 내용)의 토큰들 중 끝에서 3번째\n",
        "    - 왜 뒤에서 3번째일까…? 문장부호에 해당하는 토큰이나 `[SEP]` 토큰을 거르기 위해서인 것 같다.\n",
        "    - 아무래도 아래와 같이 토크나이즈 되는 경우가 많을 거라 생각된다.\n",
        "\n",
        "    ```['this', 'film', 'does', \"n't\", 'have', 'much', 'of', 'a', 'plot', '.', '[SEP]']```\n",
        "- 입력 값 = 처음부터 끝에서 3번째까지의 값"
      ],
      "metadata": {
        "id": "x5r3PxaUn6hP"
      }
    },
    {
      "cell_type": "markdown",
      "source": [
        "### input 차원 체크"
      ],
      "metadata": {
        "id": "qiILm7PPoIhl"
      }
    },
    {
      "cell_type": "code",
      "source": [
        "text, label = next(iter(train_loader))\n",
        "print(text.shape, label.shape)"
      ],
      "metadata": {
        "colab": {
          "base_uri": "https://localhost:8080/"
        },
        "id": "6dtsNOY6nzRc",
        "outputId": "7e76dbe6-cf07-426f-c985-13709a08c10f"
      },
      "execution_count": 88,
      "outputs": [
        {
          "output_type": "stream",
          "name": "stdout",
          "text": [
            "torch.Size([16, 397]) torch.Size([16])\n"
          ]
        }
      ]
    },
    {
      "cell_type": "markdown",
      "source": [
        "## 멀티 헤드 어텐션 구현"
      ],
      "metadata": {
        "id": "WpjPrzY13D_k"
      }
    },
    {
      "cell_type": "code",
      "source": [
        "from torch import nn\n",
        "from math import sqrt\n",
        "\n",
        "\n",
        "class MultiHeadAttention(nn.Module):\n",
        "  def __init__(self, input_dim, d_model, n_heads):\n",
        "    super().__init__()\n",
        "\n",
        "    # 입력 벡터 차원\n",
        "    self.input_dim = input_dim\n",
        "\n",
        "    # Q, K, V 및 최종 출력 차원\n",
        "    self.d_model = d_model\n",
        "\n",
        "    #n_heads 헤드의 개수?!\n",
        "    self.n_heads = n_heads\n",
        "\n",
        "    # Q, K, V에 곱할 가중치 행렬값\n",
        "    self.wq = nn.Linear(input_dim, d_model)\n",
        "    self.wk = nn.Linear(input_dim, d_model)\n",
        "    self.wv = nn.Linear(input_dim, d_model)\n",
        "\n",
        "    # 은닉층 한 번 선형 결과를 만들어서 정확도를 더 높여준다\n",
        "    self.dense = nn.Linear(d_model, d_model)\n",
        "\n",
        "    # 어텐션 스코어 계산에 필요한 소프트맥스. 확률 분포로 변환시켜준다. 0~1사이의 값\n",
        "    self.softmax = nn.Softmax(dim=-1)\n",
        "\n",
        "  def forward(self, x, mask):\n",
        "    # Q, K, V 벡터 값 생성\n",
        "    q, k, v = self.wq(x), self.wk(x), self.wv(x) # (B, S, D)\n",
        "\n",
        "    # 배치 크기\n",
        "    B = q.shape[0]\n",
        "    # 시퀀스 길이\n",
        "    S = q.shape[1]\n",
        "    # 임베딩 벡터 차원 근데 얘는 D = H * D' | D' = D // 2 (정수로 나눠야함)\n",
        "    D_HEAD = self.d_model // self.n_heads\n",
        "\n",
        "    #Q, K, V를 (B, S, H, D')로 리쉐이프 + (B,H,S,D')로 순서 바꿔줘야함 이런\n",
        "    q = q.reshape(B, S, self.n_heads, D_HEAD).transpose(1,2)\n",
        "    k = k.reshape(B, S, self.n_heads, D_HEAD).transpose(1,2)\n",
        "    v = v.reshape(B, S, self.n_heads, D_HEAD).transpose(1,2)\n",
        "\n",
        "\n",
        "    # Q * K^T 쿼리와 키의 유사도를 구함\n",
        "    score = torch.matmul(q, k.transpose(-1, -2)) # (B,H,S,D') * (B,H,D',S) = (B, H, S, S)\n",
        "    # 스케일링 : 루트 d로 나누어서 크기 조정을 한다.\n",
        "    score = score / sqrt(self.d_model)\n",
        "\n",
        "    # 마스킹 - 패딩 토큰 무시. 0에 수렴하도록? 거의 안보이게 하기 위해 -1e9 더함\n",
        "    # score의 (B, H, S, S) 쉐이프에 맞춰야함\n",
        "    # 마스크 값의 shape는 (B, 1, S).... 행렬 덧셈 조건에 맞게 차원을 더 추가해서 (B, 1, X, S) 이런식으로 하면 될듯\n",
        "    if mask is not None:\n",
        "      mask = mask[:, None]\n",
        "      score = score + (mask * -1e9)\n",
        "\n",
        "    # 스코어를 소프트 맥스로 변환\n",
        "    score = self.softmax(score)\n",
        "    # 어텐션 스코어를 value의 벡터에 곱해서 문맥을 반영한 최종 벡터 꺼냄\n",
        "    result = torch.matmul(score, v) # -> (B, S, H, D')\n",
        "\n",
        "    # (B, S, D)로 리쉐이프\n",
        "    result = result.transpose(1,2) #(B, H, S, D')\n",
        "    result = result.reshape((B, S, -1)) #(B,S,D)\n",
        "\n",
        "    # 최종 출력값 변환\n",
        "    result = self.dense(result) # -> (B, S, D)\n",
        "\n",
        "    return result"
      ],
      "metadata": {
        "id": "1D-xAfe13J67"
      },
      "execution_count": 89,
      "outputs": []
    },
    {
      "cell_type": "markdown",
      "source": [
        "**멀티-헤드-어텐션**\n",
        "- 어텐션을 병렬로 여러개 둬서 처리하는 방식\n",
        "- 헤드 별로 집중하는 관점이 다르다?\n",
        "- 헤드의 개수를 정해줘야할 필요가 있는듯\n"
      ],
      "metadata": {
        "id": "4nP6zZ6P4oha"
      }
    },
    {
      "cell_type": "markdown",
      "source": [
        "## 4. 트랜스포머 레이어 정의"
      ],
      "metadata": {
        "id": "5dAPy8lK3HRQ"
      }
    },
    {
      "cell_type": "code",
      "execution_count": 90,
      "metadata": {
        "id": "VZHPCn9AS5Gp"
      },
      "outputs": [],
      "source": [
        "#트랜스포머\n",
        "class TransformerLayer(nn.Module):\n",
        "  def __init__(self, input_dim, d_model, dff, n_heads):\n",
        "    super().__init__()\n",
        "\n",
        "    self.input_dim = input_dim # 입력 벡터 차원\n",
        "    self.d_model = d_model # 모델 크기\n",
        "    self.dff = dff #은닉층 크기\n",
        "\n",
        "    self.mha = MultiHeadAttention(input_dim, d_model, n_heads) #멀티 헤드 어텐션 계산\n",
        "\n",
        "    # 그냥 우리가 알고있는 MLP\n",
        "    # 언어를 학습시키는 데 더 많은 가중치(weight)를 부여함\n",
        "    # 비선형 처리 + 추가 가중치\n",
        "    self.ffn = nn.Sequential(\n",
        "      nn.Linear(d_model, dff),\n",
        "      nn.ReLU(),\n",
        "      nn.Linear(dff, d_model)\n",
        "    )\n",
        "\n",
        "    # residual + 레이어 정규화\n",
        "    self.norm1 = nn.LayerNorm(d_model)\n",
        "    self.dropout1 = nn.Dropout(0.1)\n",
        "    self.norm2 = nn.LayerNorm(d_model)\n",
        "    self.dropout2 = nn.Dropout(0.1)\n",
        "\n",
        "  def forward(self, x, mask):\n",
        "    x1 = self.mha(x, mask) #1. 멀티헤드 어텐션의 결과를 가져온다.\n",
        "    x1 = self.dropout1(x1)\n",
        "    x1 = self.norm1(x + x1)\n",
        "\n",
        "    x2 = self.ffn(x1)\n",
        "    x2 = self.dropout2(x2)\n",
        "    x2 = self.norm2(x1 + x2)\n",
        "\n",
        "    return x2"
      ]
    },
    {
      "cell_type": "markdown",
      "source": [
        "**residual 학습**\n",
        "- 특정 레이어를 건너 뛰어서 복사된 값을 그대로 넣어줌\n",
        "- mha -> add + norm -> ffn -> add + norm\n",
        "- 첫번째 add + norm = 멀티헤드 레이어 적용 값(x1) + 적용안한 값 (x)\n",
        "- 두번째 add + norm = 첫번째 add + norm 값(x1) + x1 값을 FFN에 적용 시킨 값\n",
        "\n",
        "**Layer normalization**\n",
        "- 출력값 안정화"
      ],
      "metadata": {
        "id": "GDyx2kyqGmze"
      }
    },
    {
      "cell_type": "markdown",
      "metadata": {
        "id": "J3VYrqTJagS1"
      },
      "source": [
        "## Positional encoding\n",
        "\n",
        "이번에는 positional encoding을 구현합니다. Positional encoding의 식은 다음과 같습니다:\n",
        "$$\n",
        "\\begin{align*} PE_{pos, 2i} &= \\sin\\left( \\frac{pos}{10000^{2i/D}} \\right), \\\\ PE_{pos, 2i+1} &= \\cos\\left( \\frac{pos}{10000^{2i/D}} \\right).\\end{align*}\n",
        "$$\n",
        "\n",
        "이를 Numpy로 구현하여 PyTorch tensor로 변환한 모습은 다음과 같습니다:"
      ]
    },
    {
      "cell_type": "code",
      "execution_count": 91,
      "metadata": {
        "colab": {
          "base_uri": "https://localhost:8080/"
        },
        "id": "Uf_jMQWDUR79",
        "outputId": "abc46c1a-4cc7-48d3-b612-11a88d7eb7b0"
      },
      "outputs": [
        {
          "output_type": "stream",
          "name": "stdout",
          "text": [
            "torch.Size([1, 400, 256])\n"
          ]
        }
      ],
      "source": [
        "import numpy as np\n",
        "\n",
        "\n",
        "def get_angles(pos, i, d_model):\n",
        "    angle_rates = 1 / np.power(10000, (2 * (i // 2)) / np.float32(d_model))\n",
        "    return pos * angle_rates\n",
        "# 포지셔널 인코딩\n",
        "# 트랜스포머를 사용하려면 순서 정보 벡터값을 따로 계산해서 입력해줘야한다.\n",
        "def positional_encoding(position, d_model):\n",
        "    angle_rads = get_angles(np.arange(position)[:, None], np.arange(d_model)[None, :], d_model)\n",
        "    angle_rads[:, 0::2] = np.sin(angle_rads[:, 0::2])\n",
        "    angle_rads[:, 1::2] = np.cos(angle_rads[:, 1::2])\n",
        "    pos_encoding = angle_rads[None, ...]\n",
        "\n",
        "    return torch.FloatTensor(pos_encoding)\n",
        "\n",
        "\n",
        "max_len = 400\n",
        "print(positional_encoding(max_len, 256).shape)"
      ]
    },
    {
      "cell_type": "markdown",
      "metadata": {
        "id": "5unoDcBva3eN"
      },
      "source": [
        "Positional encoding은 `angle_rads`를 구현하는 과정에서 모두 구현이 되었습니다. 여기서 `angle_rads`의 shape은 (S, D)입니다.\n",
        "우리는 일반적으로 batch로 주어지는 shape이 (B, S, D)인 tensor를 다루기 때문에 마지막에 None을 활용하여 shape을 (1, S, D)로 바꿔주게됩니다.\n",
        "\n",
        "위에서 구현한 `TransformerLayer`와 positional encoding을 모두 합친 모습은 다음과 같습니다\n",
        "\n",
        ".... 이 부분 어려워서 패스하겠습니다 😞"
      ]
    },
    {
      "cell_type": "code",
      "execution_count": 92,
      "metadata": {
        "id": "8MaiCGh8TsDH"
      },
      "outputs": [],
      "source": [
        "class TextClassifier(nn.Module):\n",
        "  def __init__(self, vocab_size, d_model, n_layers, dff, n_heads):\n",
        "    super().__init__()\n",
        "\n",
        "    self.vocab_size = vocab_size\n",
        "    self.d_model = d_model\n",
        "    self.n_layers = n_layers\n",
        "    self.dff = dff\n",
        "\n",
        "    # 워드 임베딩\n",
        "    self.embedding = nn.Embedding(vocab_size, d_model)\n",
        "    # 포지셔널 인코딩\n",
        "    self.pos_encoding = nn.parameter.Parameter(positional_encoding(max_len, d_model), requires_grad=False)\n",
        "    # rnn 대신 트랜스포머 레이어를 통과시킴.\n",
        "    # 인코더, 디코더를 여러개 두고 쓰는 방식이라서 여러개를 만들어서 통과시키는듯\n",
        "    self.layers = nn.ModuleList([TransformerLayer(d_model, d_model, dff, n_heads) for _ in range(n_layers)])\n",
        "    # 마지막 토큰을 예측 -> 학습 데이터셋들의 모든 토큰들의 개수를 체크하는게 맞겠지 여기서 가장 유리한 것을 골라야하니까\n",
        "    self.classification = nn.Linear(d_model, vocab_size)\n",
        "\n",
        "  def forward(self, x):\n",
        "    # x의 shape == (batch_size, seq_len, d_model)\n",
        "    # 마스크 정의: 패딩 토큰이 있다면 true\n",
        "    mask = (x == tokenizer.pad_token_id)\n",
        "    mask = mask[:, None, :] # -> (B,1,S)?\n",
        "\n",
        "    # 시퀀스 데이터의 길이\n",
        "    seq_len = x.shape[1]\n",
        "\n",
        "    # 워드 임베딩\n",
        "    x = self.embedding(x)\n",
        "    # 노멀라이즈?\n",
        "    x = x * sqrt(self.d_model)\n",
        "    # 포지셔널 인코딩 - 위치 정보 벡터 추가\n",
        "    x = x + self.pos_encoding[:, :seq_len]\n",
        "\n",
        "    # 트랜스포머의 레이어 갯수만큼 돌려라...\n",
        "    for layer in self.layers:\n",
        "      x = layer(x, mask)\n",
        "\n",
        "    x = x[:, 0] # 첫번째 차원(배치)에서 모든 요소를 선택, 두번째 차원(시퀀스 데이터) 첫번째 요소만 선택해서 마지막 단어를 예측하게끔 하는듯\n",
        "    x = self.classification(x)\n",
        "\n",
        "    return x\n",
        "\n",
        "\n",
        "model = TextClassifier(len(tokenizer), 32, 5, 32, 4)"
      ]
    },
    {
      "cell_type": "markdown",
      "metadata": {
        "id": "XXpjPWHjbUK8"
      },
      "source": [
        "기존과 다른 점들은 다음과 같습니다:\n",
        "1. `nn.ModuleList`를 사용하여 여러 layer의 구현을 쉽게 하였습니다.\n",
        "2. Embedding, positional encoding, transformer layer를 거치고 난 후 마지막 label을 예측하기 위해 사용한 값은 `x[:, 0]`입니다. 기존의 RNN에서는 padding token을 제외한 마지막 token에 해당하는 representation을 사용한 것과 다릅니다. 이렇게 사용할 수 있는 이유는 attention 과정을 보시면 첫 번째 token에 대한 representation은 이후의 모든 token의 영향을 받습니다. 즉, 첫 번째 token 또한 전체 문장을 대변하는 의미를 가지고 있다고 할 수 있습니다. 그래서 일반적으로 Transformer를 text 분류에 사용할 때는 이와 같은 방식으로 구현됩니다."
      ]
    },
    {
      "cell_type": "markdown",
      "metadata": {
        "id": "QDq05OlAb2lB"
      },
      "source": [
        "## 학습"
      ]
    },
    {
      "cell_type": "code",
      "execution_count": 93,
      "metadata": {
        "id": "YHVVsWBPQmnv"
      },
      "outputs": [],
      "source": [
        "from torch.optim import Adam\n",
        "\n",
        "lr = 0.001\n",
        "model = model.to('cuda')\n",
        "# 교차 엔트로피로 수정\n",
        "loss_fn = nn.CrossEntropyLoss()\n",
        "\n",
        "optimizer = Adam(model.parameters(), lr=lr)"
      ]
    },
    {
      "cell_type": "markdown",
      "source": [
        "교차 엔트로피 손실 함수를 쓰는 이유?\n",
        "\n",
        "- 마지막 단어 예측 → 데이터셋의 모든 단어들 중 하나일 가능성일 확률이 높음\n",
        "- TextClassifier 클래스의 최종 출력 값의 shape vocab_size과 동일함\n",
        "    - 즉, MNIST 분류 문제처럼 모든 토큰들 중 하나를 분류하는 것.\n",
        "    - 교차 엔트로피는 분류 문제에서 예측값들의 정답 확률 분포를 알려줌\n",
        "    - `argmax(logits, dim=-1)` 을 통해 가장 높은 확률을 선택"
      ],
      "metadata": {
        "id": "rXRbQPSN3iol"
      }
    },
    {
      "cell_type": "code",
      "execution_count": 94,
      "metadata": {
        "id": "r88BALxO1zc1"
      },
      "outputs": [],
      "source": [
        "import numpy as np\n",
        "import matplotlib.pyplot as plt\n",
        "\n",
        "\n",
        "def accuracy(model, dataloader):\n",
        "  cnt = 0\n",
        "  acc = 0\n",
        "\n",
        "  for data in dataloader:\n",
        "    inputs, labels = data\n",
        "    inputs, labels = inputs.to('cuda'), labels.to('cuda')\n",
        "\n",
        "    preds = model(inputs)\n",
        "    # 가장 큰 값이 곧 가장 정답에 가까운 예측값\n",
        "    preds = torch.argmax(preds, dim=-1)\n",
        "\n",
        "    cnt += labels.shape[0]\n",
        "    acc += (labels == preds).sum().item()\n",
        "\n",
        "  return acc / cnt"
      ]
    },
    {
      "cell_type": "code",
      "source": [
        "device = torch.device(\"cuda\" if torch.cuda.is_available() else \"cpu\")\n",
        "print(device)"
      ],
      "metadata": {
        "colab": {
          "base_uri": "https://localhost:8080/"
        },
        "id": "1QnIUpvLaVaM",
        "outputId": "3ff771e1-e9a8-46aa-f925-ee327f78c835"
      },
      "execution_count": 78,
      "outputs": [
        {
          "output_type": "stream",
          "name": "stdout",
          "text": [
            "cuda\n"
          ]
        }
      ]
    },
    {
      "cell_type": "code",
      "execution_count": 95,
      "metadata": {
        "colab": {
          "base_uri": "https://localhost:8080/"
        },
        "id": "al_b56TYRILq",
        "outputId": "32113e6a-9794-46d6-87b3-6e820a8ed2a8"
      },
      "outputs": [
        {
          "output_type": "stream",
          "name": "stdout",
          "text": [
            "Epoch   0 | Train Loss: 761.4955129623413\n",
            "=========> Train acc: 0.021 | Test acc: 0.006\n",
            "Epoch   1 | Train Loss: 544.5182375907898\n",
            "=========> Train acc: 0.040 | Test acc: 0.049\n",
            "Epoch   2 | Train Loss: 480.92755603790283\n",
            "=========> Train acc: 0.046 | Test acc: 0.050\n",
            "Epoch   3 | Train Loss: 468.1751036643982\n",
            "=========> Train acc: 0.056 | Test acc: 0.037\n",
            "Epoch   4 | Train Loss: 458.19014072418213\n",
            "=========> Train acc: 0.083 | Test acc: 0.042\n",
            "Epoch   5 | Train Loss: 442.2921471595764\n",
            "=========> Train acc: 0.098 | Test acc: 0.040\n",
            "Epoch   6 | Train Loss: 427.9643712043762\n",
            "=========> Train acc: 0.112 | Test acc: 0.037\n",
            "Epoch   7 | Train Loss: 400.3751504421234\n",
            "=========> Train acc: 0.156 | Test acc: 0.038\n",
            "Epoch   8 | Train Loss: 379.7343783378601\n",
            "=========> Train acc: 0.199 | Test acc: 0.029\n",
            "Epoch   9 | Train Loss: 350.517271399498\n",
            "=========> Train acc: 0.231 | Test acc: 0.030\n",
            "Epoch  10 | Train Loss: 324.5260741710663\n",
            "=========> Train acc: 0.229 | Test acc: 0.037\n",
            "Epoch  11 | Train Loss: 297.46112036705017\n",
            "=========> Train acc: 0.350 | Test acc: 0.027\n",
            "Epoch  12 | Train Loss: 269.4104583263397\n",
            "=========> Train acc: 0.398 | Test acc: 0.030\n",
            "Epoch  13 | Train Loss: 241.00907158851624\n",
            "=========> Train acc: 0.488 | Test acc: 0.026\n",
            "Epoch  14 | Train Loss: 213.49428260326385\n",
            "=========> Train acc: 0.534 | Test acc: 0.025\n",
            "Epoch  15 | Train Loss: 185.5610523223877\n",
            "=========> Train acc: 0.678 | Test acc: 0.026\n",
            "Epoch  16 | Train Loss: 165.20812964439392\n",
            "=========> Train acc: 0.741 | Test acc: 0.026\n",
            "Epoch  17 | Train Loss: 138.28752529621124\n",
            "=========> Train acc: 0.844 | Test acc: 0.023\n",
            "Epoch  18 | Train Loss: 116.92633771896362\n",
            "=========> Train acc: 0.908 | Test acc: 0.017\n",
            "Epoch  19 | Train Loss: 101.74012446403503\n",
            "=========> Train acc: 0.953 | Test acc: 0.020\n",
            "Epoch  20 | Train Loss: 80.04417407512665\n",
            "=========> Train acc: 0.981 | Test acc: 0.021\n",
            "Epoch  21 | Train Loss: 64.60628643631935\n",
            "=========> Train acc: 0.991 | Test acc: 0.019\n",
            "Epoch  22 | Train Loss: 52.2269169986248\n",
            "=========> Train acc: 0.998 | Test acc: 0.019\n",
            "Epoch  23 | Train Loss: 40.09068323671818\n",
            "=========> Train acc: 1.000 | Test acc: 0.018\n",
            "Epoch  24 | Train Loss: 31.74307008087635\n",
            "=========> Train acc: 1.000 | Test acc: 0.018\n",
            "Epoch  25 | Train Loss: 25.94521215558052\n",
            "=========> Train acc: 1.000 | Test acc: 0.020\n",
            "Epoch  26 | Train Loss: 20.81467019021511\n",
            "=========> Train acc: 1.000 | Test acc: 0.015\n",
            "Epoch  27 | Train Loss: 16.371278077363968\n",
            "=========> Train acc: 1.000 | Test acc: 0.016\n",
            "Epoch  28 | Train Loss: 14.15548973530531\n",
            "=========> Train acc: 1.000 | Test acc: 0.016\n",
            "Epoch  29 | Train Loss: 11.993318639695644\n",
            "=========> Train acc: 1.000 | Test acc: 0.015\n",
            "Epoch  30 | Train Loss: 10.096861973404884\n",
            "=========> Train acc: 1.000 | Test acc: 0.018\n",
            "Epoch  31 | Train Loss: 8.697666496038437\n",
            "=========> Train acc: 1.000 | Test acc: 0.017\n",
            "Epoch  32 | Train Loss: 7.31478763371706\n",
            "=========> Train acc: 1.000 | Test acc: 0.016\n",
            "Epoch  33 | Train Loss: 6.329808060079813\n",
            "=========> Train acc: 1.000 | Test acc: 0.016\n",
            "Epoch  34 | Train Loss: 5.615336440503597\n",
            "=========> Train acc: 1.000 | Test acc: 0.017\n",
            "Epoch  35 | Train Loss: 4.904963959008455\n",
            "=========> Train acc: 1.000 | Test acc: 0.011\n",
            "Epoch  36 | Train Loss: 4.6024868711829185\n",
            "=========> Train acc: 1.000 | Test acc: 0.015\n",
            "Epoch  37 | Train Loss: 4.10354320704937\n",
            "=========> Train acc: 1.000 | Test acc: 0.016\n",
            "Epoch  38 | Train Loss: 3.7666334342211485\n",
            "=========> Train acc: 1.000 | Test acc: 0.015\n",
            "Epoch  39 | Train Loss: 3.567016704007983\n",
            "=========> Train acc: 1.000 | Test acc: 0.018\n",
            "Epoch  40 | Train Loss: 3.306829797104001\n",
            "=========> Train acc: 1.000 | Test acc: 0.015\n",
            "Epoch  41 | Train Loss: 2.805709194391966\n",
            "=========> Train acc: 1.000 | Test acc: 0.015\n",
            "Epoch  42 | Train Loss: 2.567454921081662\n",
            "=========> Train acc: 1.000 | Test acc: 0.014\n",
            "Epoch  43 | Train Loss: 2.3699222821742296\n",
            "=========> Train acc: 1.000 | Test acc: 0.015\n",
            "Epoch  44 | Train Loss: 2.139858323149383\n",
            "=========> Train acc: 1.000 | Test acc: 0.015\n",
            "Epoch  45 | Train Loss: 2.0773483645170927\n",
            "=========> Train acc: 1.000 | Test acc: 0.014\n",
            "Epoch  46 | Train Loss: 1.8849456487223506\n",
            "=========> Train acc: 1.000 | Test acc: 0.014\n",
            "Epoch  47 | Train Loss: 1.8864456620067358\n",
            "=========> Train acc: 1.000 | Test acc: 0.017\n",
            "Epoch  48 | Train Loss: 1.656526225619018\n",
            "=========> Train acc: 1.000 | Test acc: 0.016\n",
            "Epoch  49 | Train Loss: 1.504297741688788\n",
            "=========> Train acc: 1.000 | Test acc: 0.015\n"
          ]
        }
      ],
      "source": [
        "\n",
        "n_epochs = 50\n",
        "\n",
        "for epoch in range(n_epochs):\n",
        "  total_loss = 0.\n",
        "  model.train()\n",
        "  for data in train_loader:\n",
        "    model.zero_grad()\n",
        "    inputs, labels = data\n",
        "    inputs, labels = inputs.to('cuda'), labels.to('cuda')\n",
        "\n",
        "    # 수많은 값을 예측해서 가장 큰 값을 고르는게 포인트\n",
        "    preds = model(inputs)\n",
        "    loss = loss_fn(preds, labels)\n",
        "    loss.backward()\n",
        "    optimizer.step()\n",
        "\n",
        "    total_loss += loss.item()\n",
        "\n",
        "  print(f\"Epoch {epoch:3d} | Train Loss: {total_loss}\")\n",
        "\n",
        "  with torch.no_grad():\n",
        "    model.eval()\n",
        "    train_acc = accuracy(model, train_loader)\n",
        "    test_acc = accuracy(model, test_loader)\n",
        "    print(f\"=========> Train acc: {train_acc:.3f} | Test acc: {test_acc:.3f}\")"
      ]
    },
    {
      "cell_type": "markdown",
      "metadata": {
        "id": "WqZays2yb8Ja"
      },
      "source": [
        "배치 사이즈랑 데이터셋의 양을 줄였더니 이런 일이..."
      ]
    },
    {
      "cell_type": "code",
      "source": [
        "from torch.nn.functional import softmax\n",
        "\n",
        "# 1. 테스트 샘플 1개 가져오기\n",
        "sample = test_ds[5]['text']\n",
        "tokens = tokenizer(sample, truncation=True, max_length=400).input_ids\n",
        "\n",
        "# 2. 정답은 뒤에서 -3 인덱스인 토큰, 입력은 그 앞부분\n",
        "target_ids = tokens[-3]         # 정답\n",
        "input_ids = tokens[:-3]          # 입력\n",
        "\n",
        "# 3. 텐서로 변환해서 배치처럼 만들기\n",
        "input_tensor = torch.LongTensor([input_ids]).to(device)  # shape: (1, L)\n",
        "\n",
        "# 4. 모델에 넣기\n",
        "model.eval()\n",
        "with torch.no_grad():\n",
        "    logits = model(input_tensor)\n",
        "    pred_ids = logits.argmax(dim=-1)[0]\n",
        "\n",
        "# 5. 예측 결과 디코딩\n",
        "pred_tokens = tokenizer.decode(pred_ids.tolist()) #토큰 ID -> 문자\n",
        "target_tokens = tokenizer.decode(target_ids)\n",
        "\n",
        "print(\"🟦 전체 입력 문장:\", sample)\n",
        "print(\"🟦 입력 문장:\", tokenizer.decode(input_ids))\n",
        "print(\"🟩 정답 토큰:\", target_tokens)\n",
        "print(\"🟥 예측 토큰:\", pred_tokens)\n"
      ],
      "metadata": {
        "id": "u-I121osywgW",
        "colab": {
          "base_uri": "https://localhost:8080/"
        },
        "outputId": "41089519-4ca4-4ea2-d36e-e82d2a63fdc7"
      },
      "execution_count": 99,
      "outputs": [
        {
          "output_type": "stream",
          "name": "stdout",
          "text": [
            "🟦 전체 입력 문장: I had high hopes for this one until they changed the name to 'The Shepherd : Border Patrol, the lamest movie name ever, what was wrong with just 'The Shepherd'. This is a by the numbers action flick that tips its hat at many classic Van Damme films. There is a nice bit of action in a bar which reminded me of hard target and universal soldier but directed with no intensity or flair which is a shame. There is one great line about 'being p*ss drunk and carrying a rabbit' and some OK action scenes let down by the cheapness of it all. A lot of the times the dialogue doesn't match the characters mouth and the stunt men fall down dead a split second before even being shot. The end fight is one of the better Van Damme fights except the Director tries to go a bit too John Woo and fails also introducing flashbacks which no one really cares about just gets in the way of the action which is the whole point of a van Damme film.<br /><br />Not good, not bad, just average generic action.\n",
            "🟦 입력 문장: [CLS] i had high hopes for this one until they changed the name to ' the shepherd : border patrol, the lamest movie name ever, what was wrong with just ' the shepherd '. this is a by the numbers action flick that tips its hat at many classic van damme films. there is a nice bit of action in a bar which reminded me of hard target and universal soldier but directed with no intensity or flair which is a shame. there is one great line about ' being p * ss drunk and carrying a rabbit ' and some ok action scenes let down by the cheapness of it all. a lot of the times the dialogue doesn ' t match the characters mouth and the stunt men fall down dead a split second before even being shot. the end fight is one of the better van damme fights except the director tries to go a bit too john woo and fails also introducing flashbacks which no one really cares about just gets in the way of the action which is the whole point of a van damme film. < br / > < br / > not good, not bad, just average generic\n",
            "🟩 정답 토큰: action\n",
            "🟥 예측 토큰: ##nia\n"
          ]
        }
      ]
    }
  ],
  "metadata": {
    "accelerator": "GPU",
    "colab": {
      "gpuType": "L4",
      "provenance": [],
      "name": "MHA.ipynb"
    },
    "kernelspec": {
      "display_name": "Python 3 (ipykernel)",
      "language": "python",
      "name": "python3"
    },
    "language_info": {
      "codemirror_mode": {
        "name": "ipython",
        "version": 3
      },
      "file_extension": ".py",
      "mimetype": "text/x-python",
      "name": "python",
      "nbconvert_exporter": "python",
      "pygments_lexer": "ipython3",
      "version": "3.10.14"
    }
  },
  "nbformat": 4,
  "nbformat_minor": 0
}